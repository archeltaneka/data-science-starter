{
  "nbformat": 4,
  "nbformat_minor": 0,
  "metadata": {
    "colab": {
      "name": "titanic_98%_accuracy.ipynb",
      "provenance": []
    },
    "kernelspec": {
      "name": "python3",
      "display_name": "Python 3"
    }
  },
  "cells": [
    {
      "cell_type": "code",
      "metadata": {
        "colab": {
          "base_uri": "https://localhost:8080/"
        },
        "id": "Ek5qEf_NEyRu",
        "outputId": "7466b0b4-5302-4ff6-cf2c-e7634bb8138a"
      },
      "source": [
        "!pip install fastai2 -- yes"
      ],
      "execution_count": 1,
      "outputs": [
        {
          "output_type": "stream",
          "text": [
            "Collecting fastai2\n",
            "\u001b[?25l  Downloading https://files.pythonhosted.org/packages/cc/50/2f37212be57b7ee3e9c947336f75a66724468b21a3ca68734eaa82e7ebf3/fastai2-0.0.30-py3-none-any.whl (179kB)\n",
            "\r\u001b[K     |█▉                              | 10kB 17.9MB/s eta 0:00:01\r\u001b[K     |███▋                            | 20kB 23.3MB/s eta 0:00:01\r\u001b[K     |█████▌                          | 30kB 18.7MB/s eta 0:00:01\r\u001b[K     |███████▎                        | 40kB 15.0MB/s eta 0:00:01\r\u001b[K     |█████████▏                      | 51kB 16.3MB/s eta 0:00:01\r\u001b[K     |███████████                     | 61kB 15.0MB/s eta 0:00:01\r\u001b[K     |████████████▉                   | 71kB 12.3MB/s eta 0:00:01\r\u001b[K     |██████████████▋                 | 81kB 13.5MB/s eta 0:00:01\r\u001b[K     |████████████████▍               | 92kB 14.1MB/s eta 0:00:01\r\u001b[K     |██████████████████▎             | 102kB 11.5MB/s eta 0:00:01\r\u001b[K     |████████████████████            | 112kB 11.5MB/s eta 0:00:01\r\u001b[K     |██████████████████████          | 122kB 11.5MB/s eta 0:00:01\r\u001b[K     |███████████████████████▊        | 133kB 11.5MB/s eta 0:00:01\r\u001b[K     |█████████████████████████▋      | 143kB 11.5MB/s eta 0:00:01\r\u001b[K     |███████████████████████████▍    | 153kB 11.5MB/s eta 0:00:01\r\u001b[K     |█████████████████████████████▎  | 163kB 11.5MB/s eta 0:00:01\r\u001b[K     |███████████████████████████████ | 174kB 11.5MB/s eta 0:00:01\r\u001b[K     |████████████████████████████████| 184kB 11.5MB/s \n",
            "\u001b[?25hCollecting yes\n",
            "  Downloading https://files.pythonhosted.org/packages/34/4c/b617ad72dd3690843e6147e18d78f70f15aa50818710f149bfd4d5f4ba52/yes-0.0.1-py2.py3-none-any.whl\n",
            "Requirement already satisfied: pandas in /usr/local/lib/python3.7/dist-packages (from fastai2) (1.1.5)\n",
            "Requirement already satisfied: torchvision>=0.7 in /usr/local/lib/python3.7/dist-packages (from fastai2) (0.8.1+cu101)\n",
            "Requirement already satisfied: torch>=1.6.0 in /usr/local/lib/python3.7/dist-packages (from fastai2) (1.7.0+cu101)\n",
            "Requirement already satisfied: packaging in /usr/local/lib/python3.7/dist-packages (from fastai2) (20.9)\n",
            "Requirement already satisfied: pip in /usr/local/lib/python3.7/dist-packages (from fastai2) (19.3.1)\n",
            "Requirement already satisfied: pillow in /usr/local/lib/python3.7/dist-packages (from fastai2) (7.0.0)\n",
            "Requirement already satisfied: scikit-learn in /usr/local/lib/python3.7/dist-packages (from fastai2) (0.22.2.post1)\n",
            "Requirement already satisfied: spacy in /usr/local/lib/python3.7/dist-packages (from fastai2) (2.2.4)\n",
            "Requirement already satisfied: pyyaml in /usr/local/lib/python3.7/dist-packages (from fastai2) (3.13)\n",
            "Collecting fastcore>=0.1.34\n",
            "\u001b[?25l  Downloading https://files.pythonhosted.org/packages/0c/98/60404e2817cff113a6ae4023bc1772e23179408fdf7857fa410551758dfe/fastcore-1.3.19-py3-none-any.whl (53kB)\n",
            "\u001b[K     |████████████████████████████████| 61kB 5.4MB/s \n",
            "\u001b[?25hRequirement already satisfied: fastprogress>=0.2.4 in /usr/local/lib/python3.7/dist-packages (from fastai2) (1.0.0)\n",
            "Requirement already satisfied: matplotlib in /usr/local/lib/python3.7/dist-packages (from fastai2) (3.2.2)\n",
            "Requirement already satisfied: scipy in /usr/local/lib/python3.7/dist-packages (from fastai2) (1.4.1)\n",
            "Requirement already satisfied: requests in /usr/local/lib/python3.7/dist-packages (from fastai2) (2.23.0)\n",
            "Collecting nose\n",
            "\u001b[?25l  Downloading https://files.pythonhosted.org/packages/15/d8/dd071918c040f50fa1cf80da16423af51ff8ce4a0f2399b7bf8de45ac3d9/nose-1.3.7-py3-none-any.whl (154kB)\n",
            "\u001b[K     |████████████████████████████████| 163kB 25.3MB/s \n",
            "\u001b[?25hCollecting sphinx-rtd-theme\n",
            "\u001b[?25l  Downloading https://files.pythonhosted.org/packages/76/81/d5af3a50a45ee4311ac2dac5b599d69f68388401c7a4ca902e0e450a9f94/sphinx_rtd_theme-0.5.1-py2.py3-none-any.whl (2.8MB)\n",
            "\u001b[K     |████████████████████████████████| 2.8MB 29.5MB/s \n",
            "\u001b[?25hRequirement already satisfied: coverage in /usr/local/lib/python3.7/dist-packages (from yes) (3.7.1)\n",
            "Requirement already satisfied: sphinx in /usr/local/lib/python3.7/dist-packages (from yes) (1.8.5)\n",
            "Collecting pypi-publisher\n",
            "  Downloading https://files.pythonhosted.org/packages/fb/54/20d4290b78ca3a8d291ad984c180a5edcf6bd66e08cbd431776da238ca3d/pypi-publisher-0.0.4.tar.gz\n",
            "Requirement already satisfied: pytz>=2017.2 in /usr/local/lib/python3.7/dist-packages (from pandas->fastai2) (2018.9)\n",
            "Requirement already satisfied: numpy>=1.15.4 in /usr/local/lib/python3.7/dist-packages (from pandas->fastai2) (1.19.5)\n",
            "Requirement already satisfied: python-dateutil>=2.7.3 in /usr/local/lib/python3.7/dist-packages (from pandas->fastai2) (2.8.1)\n",
            "Requirement already satisfied: future in /usr/local/lib/python3.7/dist-packages (from torch>=1.6.0->fastai2) (0.16.0)\n",
            "Requirement already satisfied: dataclasses in /usr/local/lib/python3.7/dist-packages (from torch>=1.6.0->fastai2) (0.6)\n",
            "Requirement already satisfied: typing-extensions in /usr/local/lib/python3.7/dist-packages (from torch>=1.6.0->fastai2) (3.7.4.3)\n",
            "Requirement already satisfied: pyparsing>=2.0.2 in /usr/local/lib/python3.7/dist-packages (from packaging->fastai2) (2.4.7)\n",
            "Requirement already satisfied: joblib>=0.11 in /usr/local/lib/python3.7/dist-packages (from scikit-learn->fastai2) (1.0.1)\n",
            "Requirement already satisfied: plac<1.2.0,>=0.9.6 in /usr/local/lib/python3.7/dist-packages (from spacy->fastai2) (1.1.3)\n",
            "Requirement already satisfied: blis<0.5.0,>=0.4.0 in /usr/local/lib/python3.7/dist-packages (from spacy->fastai2) (0.4.1)\n",
            "Requirement already satisfied: preshed<3.1.0,>=3.0.2 in /usr/local/lib/python3.7/dist-packages (from spacy->fastai2) (3.0.5)\n",
            "Requirement already satisfied: catalogue<1.1.0,>=0.0.7 in /usr/local/lib/python3.7/dist-packages (from spacy->fastai2) (1.0.0)\n",
            "Requirement already satisfied: murmurhash<1.1.0,>=0.28.0 in /usr/local/lib/python3.7/dist-packages (from spacy->fastai2) (1.0.5)\n",
            "Requirement already satisfied: cymem<2.1.0,>=2.0.2 in /usr/local/lib/python3.7/dist-packages (from spacy->fastai2) (2.0.5)\n",
            "Requirement already satisfied: tqdm<5.0.0,>=4.38.0 in /usr/local/lib/python3.7/dist-packages (from spacy->fastai2) (4.41.1)\n",
            "Requirement already satisfied: thinc==7.4.0 in /usr/local/lib/python3.7/dist-packages (from spacy->fastai2) (7.4.0)\n",
            "Requirement already satisfied: srsly<1.1.0,>=1.0.2 in /usr/local/lib/python3.7/dist-packages (from spacy->fastai2) (1.0.5)\n",
            "Requirement already satisfied: wasabi<1.1.0,>=0.4.0 in /usr/local/lib/python3.7/dist-packages (from spacy->fastai2) (0.8.2)\n",
            "Requirement already satisfied: setuptools in /usr/local/lib/python3.7/dist-packages (from spacy->fastai2) (53.0.0)\n",
            "Requirement already satisfied: cycler>=0.10 in /usr/local/lib/python3.7/dist-packages (from matplotlib->fastai2) (0.10.0)\n",
            "Requirement already satisfied: kiwisolver>=1.0.1 in /usr/local/lib/python3.7/dist-packages (from matplotlib->fastai2) (1.3.1)\n",
            "Requirement already satisfied: idna<3,>=2.5 in /usr/local/lib/python3.7/dist-packages (from requests->fastai2) (2.10)\n",
            "Requirement already satisfied: chardet<4,>=3.0.2 in /usr/local/lib/python3.7/dist-packages (from requests->fastai2) (3.0.4)\n",
            "Requirement already satisfied: urllib3!=1.25.0,!=1.25.1,<1.26,>=1.21.1 in /usr/local/lib/python3.7/dist-packages (from requests->fastai2) (1.24.3)\n",
            "Requirement already satisfied: certifi>=2017.4.17 in /usr/local/lib/python3.7/dist-packages (from requests->fastai2) (2020.12.5)\n",
            "Requirement already satisfied: sphinxcontrib-websupport in /usr/local/lib/python3.7/dist-packages (from sphinx->yes) (1.2.4)\n",
            "Requirement already satisfied: Jinja2>=2.3 in /usr/local/lib/python3.7/dist-packages (from sphinx->yes) (2.11.3)\n",
            "Requirement already satisfied: Pygments>=2.0 in /usr/local/lib/python3.7/dist-packages (from sphinx->yes) (2.6.1)\n",
            "Requirement already satisfied: imagesize in /usr/local/lib/python3.7/dist-packages (from sphinx->yes) (1.2.0)\n",
            "Requirement already satisfied: babel!=2.0,>=1.3 in /usr/local/lib/python3.7/dist-packages (from sphinx->yes) (2.9.0)\n",
            "Requirement already satisfied: alabaster<0.8,>=0.7 in /usr/local/lib/python3.7/dist-packages (from sphinx->yes) (0.7.12)\n",
            "Requirement already satisfied: docutils>=0.11 in /usr/local/lib/python3.7/dist-packages (from sphinx->yes) (0.16)\n",
            "Requirement already satisfied: six>=1.5 in /usr/local/lib/python3.7/dist-packages (from sphinx->yes) (1.15.0)\n",
            "Requirement already satisfied: snowballstemmer>=1.1 in /usr/local/lib/python3.7/dist-packages (from sphinx->yes) (2.1.0)\n",
            "Collecting gitpython==0.3.6\n",
            "\u001b[?25l  Downloading https://files.pythonhosted.org/packages/e9/d5/807cea9ffbfa398a23bbaff35d3fd37aa330c8c264c9489ed104b6192f74/GitPython-0.3.6.tar.gz (353kB)\n",
            "\u001b[K     |████████████████████████████████| 358kB 34.0MB/s \n",
            "\u001b[?25hRequirement already satisfied: importlib-metadata>=0.20; python_version < \"3.8\" in /usr/local/lib/python3.7/dist-packages (from catalogue<1.1.0,>=0.0.7->spacy->fastai2) (3.4.0)\n",
            "Requirement already satisfied: sphinxcontrib-serializinghtml in /usr/local/lib/python3.7/dist-packages (from sphinxcontrib-websupport->sphinx->yes) (1.1.4)\n",
            "Requirement already satisfied: MarkupSafe>=0.23 in /usr/local/lib/python3.7/dist-packages (from Jinja2>=2.3->sphinx->yes) (1.1.1)\n",
            "Collecting gitdb>=0.6.4\n",
            "\u001b[?25l  Downloading https://files.pythonhosted.org/packages/48/11/d1800bca0a3bae820b84b7d813ad1eff15a48a64caea9c823fc8c1b119e8/gitdb-4.0.5-py3-none-any.whl (63kB)\n",
            "\u001b[K     |████████████████████████████████| 71kB 6.3MB/s \n",
            "\u001b[?25hRequirement already satisfied: zipp>=0.5 in /usr/local/lib/python3.7/dist-packages (from importlib-metadata>=0.20; python_version < \"3.8\"->catalogue<1.1.0,>=0.0.7->spacy->fastai2) (3.4.0)\n",
            "Collecting smmap<4,>=3.0.1\n",
            "  Downloading https://files.pythonhosted.org/packages/d5/1e/6130925131f639b2acde0f7f18b73e33ce082ff2d90783c436b52040af5a/smmap-3.0.5-py2.py3-none-any.whl\n",
            "Building wheels for collected packages: pypi-publisher, gitpython\n",
            "  Building wheel for pypi-publisher (setup.py) ... \u001b[?25l\u001b[?25hdone\n",
            "  Created wheel for pypi-publisher: filename=pypi_publisher-0.0.4-py2.py3-none-any.whl size=6639 sha256=c505a71129c3e657d6e384c5bd6347c5ebb4c58b98c48ade54df962f88fa4e5d\n",
            "  Stored in directory: /root/.cache/pip/wheels/4f/ce/2c/12db89fa56f78dbed6c4dedd5fd8e4d8334bfb56952c1db505\n",
            "  Building wheel for gitpython (setup.py) ... \u001b[?25l\u001b[?25hdone\n",
            "  Created wheel for gitpython: filename=GitPython-0.3.6-cp37-none-any.whl size=388104 sha256=41c88ca16c45f0b64208587c8dc895e76c144489b8596cc4d1f7e2af93fbb2c2\n",
            "  Stored in directory: /root/.cache/pip/wheels/a0/f9/86/86f71d7f28712562519932887ee0965eeaa6e05d0b045eec20\n",
            "Successfully built pypi-publisher gitpython\n",
            "Installing collected packages: fastcore, fastai2, nose, sphinx-rtd-theme, smmap, gitdb, gitpython, pypi-publisher, yes\n",
            "Successfully installed fastai2-0.0.30 fastcore-1.3.19 gitdb-4.0.5 gitpython-0.3.6 nose-1.3.7 pypi-publisher-0.0.4 smmap-3.0.5 sphinx-rtd-theme-0.5.1 yes-0.0.1\n"
          ],
          "name": "stdout"
        }
      ]
    },
    {
      "cell_type": "code",
      "metadata": {
        "colab": {
          "base_uri": "https://localhost:8080/"
        },
        "id": "Ccz9X129E5rS",
        "outputId": "2d827088-4c6c-43a9-ff72-b955281df49a"
      },
      "source": [
        "!pip install fastcore==0.1.35 ##Currently supported with fastai2"
      ],
      "execution_count": 2,
      "outputs": [
        {
          "output_type": "stream",
          "text": [
            "Collecting fastcore==0.1.35\n",
            "  Downloading https://files.pythonhosted.org/packages/f5/bc/a50e6c70d54042576ba07d4ca7e0d2f4deeb0fc5d621981a0c9536e2f4ee/fastcore-0.1.35-py3-none-any.whl\n",
            "Requirement already satisfied: pip in /usr/local/lib/python3.7/dist-packages (from fastcore==0.1.35) (19.3.1)\n",
            "Requirement already satisfied: dataclasses in /usr/local/lib/python3.7/dist-packages (from fastcore==0.1.35) (0.6)\n",
            "Requirement already satisfied: numpy in /usr/local/lib/python3.7/dist-packages (from fastcore==0.1.35) (1.19.5)\n",
            "Requirement already satisfied: packaging in /usr/local/lib/python3.7/dist-packages (from fastcore==0.1.35) (20.9)\n",
            "Requirement already satisfied: pyparsing>=2.0.2 in /usr/local/lib/python3.7/dist-packages (from packaging->fastcore==0.1.35) (2.4.7)\n",
            "Installing collected packages: fastcore\n",
            "  Found existing installation: fastcore 1.3.19\n",
            "    Uninstalling fastcore-1.3.19:\n",
            "      Successfully uninstalled fastcore-1.3.19\n",
            "Successfully installed fastcore-0.1.35\n"
          ],
          "name": "stdout"
        }
      ]
    },
    {
      "cell_type": "code",
      "metadata": {
        "colab": {
          "base_uri": "https://localhost:8080/"
        },
        "id": "N9h2nAOGE_je",
        "outputId": "1d0087f8-8ecb-4901-9856-72a4fef5ca38"
      },
      "source": [
        "import fastcore\r\n",
        "print(fastcore.__version__)"
      ],
      "execution_count": 3,
      "outputs": [
        {
          "output_type": "stream",
          "text": [
            "0.1.35\n"
          ],
          "name": "stdout"
        }
      ]
    },
    {
      "cell_type": "code",
      "metadata": {
        "id": "IIqqKwyjD5Gs"
      },
      "source": [
        "import pandas as pd\r\n",
        "import numpy as np\r\n",
        "\r\n",
        "from fastai2.tabular.all import *\r\n",
        "import xgboost\r\n",
        "\r\n",
        "from sklearn.metrics import accuracy_score"
      ],
      "execution_count": 4,
      "outputs": []
    },
    {
      "cell_type": "code",
      "metadata": {
        "id": "O3yHAAL4D6a5"
      },
      "source": [
        "df_train = pd.read_csv('train-extended.csv')\r\n",
        "df_test = pd.read_csv('test-extended.csv')"
      ],
      "execution_count": 5,
      "outputs": []
    },
    {
      "cell_type": "code",
      "metadata": {
        "colab": {
          "base_uri": "https://localhost:8080/"
        },
        "id": "8mU0f6UZEQ-5",
        "outputId": "6c1bd092-f3aa-47e6-96f3-1c37d268fd57"
      },
      "source": [
        "df_train.columns.to_series().groupby(df_train.dtypes).groups"
      ],
      "execution_count": 6,
      "outputs": [
        {
          "output_type": "execute_result",
          "data": {
            "text/plain": [
              "{int64: ['PassengerId', 'Pclass', 'SibSp', 'Parch'], float64: ['Survived', 'Age', 'Fare', 'WikiId', 'Age_wiki', 'Class'], object: ['Name', 'Sex', 'Ticket', 'Cabin', 'Embarked', 'Name_wiki', 'Hometown', 'Boarded', 'Destination', 'Lifeboat', 'Body']}"
            ]
          },
          "metadata": {
            "tags": []
          },
          "execution_count": 6
        }
      ]
    },
    {
      "cell_type": "code",
      "metadata": {
        "id": "aI1EaqfFEj6K"
      },
      "source": [
        "cat_names= [\r\n",
        "        'Name', 'Sex', 'Ticket', 'Cabin', \r\n",
        "        'Embarked', 'Name_wiki', 'Hometown', \r\n",
        "        'Boarded', 'Destination', 'Lifeboat', \r\n",
        "        'Body'\r\n",
        "]\r\n",
        "\r\n",
        "cont_names = [ \r\n",
        "    'PassengerId', 'Pclass', 'SibSp', 'Parch', \r\n",
        "    'Age', 'Fare', 'WikiId', 'Age_wiki','Class'\r\n",
        " ]"
      ],
      "execution_count": 7,
      "outputs": []
    },
    {
      "cell_type": "code",
      "metadata": {
        "id": "-FKJAdlwElrh"
      },
      "source": [
        "splits = RandomSplitter(valid_pct=0.2)(range_of(df_train))\r\n",
        "df_tp = TabularPandas(df_train, procs=[Categorify, FillMissing, Normalize],\r\n",
        "                      cat_names=cat_names,\r\n",
        "                      cont_names=cont_names,\r\n",
        "                      y_names='Survived',\r\n",
        "                      splits=splits)"
      ],
      "execution_count": 8,
      "outputs": []
    },
    {
      "cell_type": "code",
      "metadata": {
        "id": "gCRq5wvEEsqu"
      },
      "source": [
        "X_train, y_train = df_tp.train.xs, df_tp.train.ys.values.ravel()\r\n",
        "X_val, y_val = df_tp.valid.xs, df_tp.valid.ys.values.ravel()"
      ],
      "execution_count": 9,
      "outputs": []
    },
    {
      "cell_type": "code",
      "metadata": {
        "colab": {
          "base_uri": "https://localhost:8080/"
        },
        "id": "uV2w1EGhE4aj",
        "outputId": "0bb1a07d-4a9b-45f6-d949-6cbb83ba3c8d"
      },
      "source": [
        "xgb_classifier = xgboost.XGBClassifier()\r\n",
        "xgb_classifier.fit(X_train, y_train)"
      ],
      "execution_count": 10,
      "outputs": [
        {
          "output_type": "execute_result",
          "data": {
            "text/plain": [
              "XGBClassifier(base_score=0.5, booster='gbtree', colsample_bylevel=1,\n",
              "              colsample_bynode=1, colsample_bytree=1, gamma=0,\n",
              "              learning_rate=0.1, max_delta_step=0, max_depth=3,\n",
              "              min_child_weight=1, missing=None, n_estimators=100, n_jobs=1,\n",
              "              nthread=None, objective='binary:logistic', random_state=0,\n",
              "              reg_alpha=0, reg_lambda=1, scale_pos_weight=1, seed=None,\n",
              "              silent=None, subsample=1, verbosity=1)"
            ]
          },
          "metadata": {
            "tags": []
          },
          "execution_count": 10
        }
      ]
    },
    {
      "cell_type": "code",
      "metadata": {
        "colab": {
          "base_uri": "https://localhost:8080/"
        },
        "id": "Pj86HvIgFo2a",
        "outputId": "5773ff00-1437-4e7b-f1ed-2530761e9add"
      },
      "source": [
        "train_preds = xgb_classifier.predict(X_train)\r\n",
        "print('Training accuracy: {:.2f}%'.format(accuracy_score(y_train, train_preds) * 100))\r\n",
        "val_preds = xgb_classifier.predict(X_val)\r\n",
        "print('Validation accuracy: {:.2f}%'.format(accuracy_score(y_val, val_preds) * 100))"
      ],
      "execution_count": 11,
      "outputs": [
        {
          "output_type": "stream",
          "text": [
            "Training accuracy: 99.58%\n",
            "Validation accuracy: 99.44%\n"
          ],
          "name": "stdout"
        }
      ]
    },
    {
      "cell_type": "code",
      "metadata": {
        "id": "AzRSW4-oF9_1"
      },
      "source": [
        "test_tp = TabularPandas(df_test, procs=[Categorify, FillMissing, Normalize],\r\n",
        "                        cat_names=cat_names,\r\n",
        "                        cont_names=cont_names)"
      ],
      "execution_count": 12,
      "outputs": []
    },
    {
      "cell_type": "code",
      "metadata": {
        "id": "bEWGGKt8Gda2"
      },
      "source": [
        "X_test = test_tp.train.xs"
      ],
      "execution_count": 13,
      "outputs": []
    },
    {
      "cell_type": "code",
      "metadata": {
        "colab": {
          "base_uri": "https://localhost:8080/",
          "height": 224
        },
        "id": "0IC5xG8EGe0u",
        "outputId": "8e56414a-9e7e-4d85-d80d-ab8233230024"
      },
      "source": [
        "X_test.head()"
      ],
      "execution_count": 14,
      "outputs": [
        {
          "output_type": "execute_result",
          "data": {
            "text/html": [
              "<div>\n",
              "<style scoped>\n",
              "    .dataframe tbody tr th:only-of-type {\n",
              "        vertical-align: middle;\n",
              "    }\n",
              "\n",
              "    .dataframe tbody tr th {\n",
              "        vertical-align: top;\n",
              "    }\n",
              "\n",
              "    .dataframe thead th {\n",
              "        text-align: right;\n",
              "    }\n",
              "</style>\n",
              "<table border=\"1\" class=\"dataframe\">\n",
              "  <thead>\n",
              "    <tr style=\"text-align: right;\">\n",
              "      <th></th>\n",
              "      <th>Name</th>\n",
              "      <th>Sex</th>\n",
              "      <th>Ticket</th>\n",
              "      <th>Cabin</th>\n",
              "      <th>Embarked</th>\n",
              "      <th>Name_wiki</th>\n",
              "      <th>Hometown</th>\n",
              "      <th>Boarded</th>\n",
              "      <th>Destination</th>\n",
              "      <th>Lifeboat</th>\n",
              "      <th>Body</th>\n",
              "      <th>Age_na</th>\n",
              "      <th>WikiId_na</th>\n",
              "      <th>Age_wiki_na</th>\n",
              "      <th>Class_na</th>\n",
              "      <th>Fare_na</th>\n",
              "      <th>PassengerId</th>\n",
              "      <th>Pclass</th>\n",
              "      <th>SibSp</th>\n",
              "      <th>Parch</th>\n",
              "      <th>Age</th>\n",
              "      <th>Fare</th>\n",
              "      <th>WikiId</th>\n",
              "      <th>Age_wiki</th>\n",
              "      <th>Class</th>\n",
              "    </tr>\n",
              "  </thead>\n",
              "  <tbody>\n",
              "    <tr>\n",
              "      <th>0</th>\n",
              "      <td>207</td>\n",
              "      <td>2</td>\n",
              "      <td>153</td>\n",
              "      <td>0</td>\n",
              "      <td>2</td>\n",
              "      <td>194</td>\n",
              "      <td>226</td>\n",
              "      <td>4</td>\n",
              "      <td>103</td>\n",
              "      <td>0</td>\n",
              "      <td>39</td>\n",
              "      <td>1</td>\n",
              "      <td>1</td>\n",
              "      <td>1</td>\n",
              "      <td>1</td>\n",
              "      <td>1</td>\n",
              "      <td>-1.727912</td>\n",
              "      <td>0.873482</td>\n",
              "      <td>-0.499470</td>\n",
              "      <td>-0.400248</td>\n",
              "      <td>0.386231</td>\n",
              "      <td>-0.497413</td>\n",
              "      <td>0.752828</td>\n",
              "      <td>-0.794545</td>\n",
              "      <td>0.871140</td>\n",
              "    </tr>\n",
              "    <tr>\n",
              "      <th>1</th>\n",
              "      <td>404</td>\n",
              "      <td>1</td>\n",
              "      <td>222</td>\n",
              "      <td>0</td>\n",
              "      <td>3</td>\n",
              "      <td>389</td>\n",
              "      <td>162</td>\n",
              "      <td>4</td>\n",
              "      <td>2</td>\n",
              "      <td>9</td>\n",
              "      <td>0</td>\n",
              "      <td>1</td>\n",
              "      <td>1</td>\n",
              "      <td>1</td>\n",
              "      <td>1</td>\n",
              "      <td>1</td>\n",
              "      <td>-1.719625</td>\n",
              "      <td>0.873482</td>\n",
              "      <td>0.616992</td>\n",
              "      <td>-0.400248</td>\n",
              "      <td>1.371369</td>\n",
              "      <td>-0.512278</td>\n",
              "      <td>1.729823</td>\n",
              "      <td>1.304755</td>\n",
              "      <td>0.871140</td>\n",
              "    </tr>\n",
              "    <tr>\n",
              "      <th>2</th>\n",
              "      <td>270</td>\n",
              "      <td>2</td>\n",
              "      <td>74</td>\n",
              "      <td>0</td>\n",
              "      <td>2</td>\n",
              "      <td>257</td>\n",
              "      <td>65</td>\n",
              "      <td>3</td>\n",
              "      <td>154</td>\n",
              "      <td>0</td>\n",
              "      <td>0</td>\n",
              "      <td>1</td>\n",
              "      <td>1</td>\n",
              "      <td>1</td>\n",
              "      <td>1</td>\n",
              "      <td>1</td>\n",
              "      <td>-1.711337</td>\n",
              "      <td>-0.315819</td>\n",
              "      <td>-0.499470</td>\n",
              "      <td>-0.400248</td>\n",
              "      <td>2.553536</td>\n",
              "      <td>-0.464100</td>\n",
              "      <td>-0.332721</td>\n",
              "      <td>2.504355</td>\n",
              "      <td>-0.311121</td>\n",
              "    </tr>\n",
              "    <tr>\n",
              "      <th>3</th>\n",
              "      <td>409</td>\n",
              "      <td>2</td>\n",
              "      <td>148</td>\n",
              "      <td>0</td>\n",
              "      <td>3</td>\n",
              "      <td>393</td>\n",
              "      <td>233</td>\n",
              "      <td>4</td>\n",
              "      <td>13</td>\n",
              "      <td>0</td>\n",
              "      <td>5</td>\n",
              "      <td>1</td>\n",
              "      <td>1</td>\n",
              "      <td>1</td>\n",
              "      <td>1</td>\n",
              "      <td>1</td>\n",
              "      <td>-1.703050</td>\n",
              "      <td>0.873482</td>\n",
              "      <td>-0.499470</td>\n",
              "      <td>-0.400248</td>\n",
              "      <td>-0.204852</td>\n",
              "      <td>-0.482475</td>\n",
              "      <td>1.745709</td>\n",
              "      <td>-0.194745</td>\n",
              "      <td>0.871140</td>\n",
              "    </tr>\n",
              "    <tr>\n",
              "      <th>4</th>\n",
              "      <td>179</td>\n",
              "      <td>1</td>\n",
              "      <td>139</td>\n",
              "      <td>0</td>\n",
              "      <td>3</td>\n",
              "      <td>167</td>\n",
              "      <td>208</td>\n",
              "      <td>4</td>\n",
              "      <td>94</td>\n",
              "      <td>7</td>\n",
              "      <td>0</td>\n",
              "      <td>1</td>\n",
              "      <td>1</td>\n",
              "      <td>1</td>\n",
              "      <td>1</td>\n",
              "      <td>1</td>\n",
              "      <td>-1.694763</td>\n",
              "      <td>0.873482</td>\n",
              "      <td>0.616992</td>\n",
              "      <td>0.619896</td>\n",
              "      <td>-0.598908</td>\n",
              "      <td>-0.417491</td>\n",
              "      <td>0.601910</td>\n",
              "      <td>-0.569620</td>\n",
              "      <td>0.871140</td>\n",
              "    </tr>\n",
              "  </tbody>\n",
              "</table>\n",
              "</div>"
            ],
            "text/plain": [
              "   Name  Sex  Ticket  Cabin  ...      Fare    WikiId  Age_wiki     Class\n",
              "0   207    2     153      0  ... -0.497413  0.752828 -0.794545  0.871140\n",
              "1   404    1     222      0  ... -0.512278  1.729823  1.304755  0.871140\n",
              "2   270    2      74      0  ... -0.464100 -0.332721  2.504355 -0.311121\n",
              "3   409    2     148      0  ... -0.482475  1.745709 -0.194745  0.871140\n",
              "4   179    1     139      0  ... -0.417491  0.601910 -0.569620  0.871140\n",
              "\n",
              "[5 rows x 25 columns]"
            ]
          },
          "metadata": {
            "tags": []
          },
          "execution_count": 14
        }
      ]
    },
    {
      "cell_type": "code",
      "metadata": {
        "id": "kEGXm86WGlVO"
      },
      "source": [
        "X_test.drop(['Fare_na'], axis=1, inplace=True)"
      ],
      "execution_count": 15,
      "outputs": []
    },
    {
      "cell_type": "code",
      "metadata": {
        "colab": {
          "base_uri": "https://localhost:8080/",
          "height": 224
        },
        "id": "tusaR1CVGpXD",
        "outputId": "9728d889-65c9-4546-abfd-a5cfe44b44c1"
      },
      "source": [
        "X_test.head()"
      ],
      "execution_count": 16,
      "outputs": [
        {
          "output_type": "execute_result",
          "data": {
            "text/html": [
              "<div>\n",
              "<style scoped>\n",
              "    .dataframe tbody tr th:only-of-type {\n",
              "        vertical-align: middle;\n",
              "    }\n",
              "\n",
              "    .dataframe tbody tr th {\n",
              "        vertical-align: top;\n",
              "    }\n",
              "\n",
              "    .dataframe thead th {\n",
              "        text-align: right;\n",
              "    }\n",
              "</style>\n",
              "<table border=\"1\" class=\"dataframe\">\n",
              "  <thead>\n",
              "    <tr style=\"text-align: right;\">\n",
              "      <th></th>\n",
              "      <th>Name</th>\n",
              "      <th>Sex</th>\n",
              "      <th>Ticket</th>\n",
              "      <th>Cabin</th>\n",
              "      <th>Embarked</th>\n",
              "      <th>Name_wiki</th>\n",
              "      <th>Hometown</th>\n",
              "      <th>Boarded</th>\n",
              "      <th>Destination</th>\n",
              "      <th>Lifeboat</th>\n",
              "      <th>Body</th>\n",
              "      <th>Age_na</th>\n",
              "      <th>WikiId_na</th>\n",
              "      <th>Age_wiki_na</th>\n",
              "      <th>Class_na</th>\n",
              "      <th>PassengerId</th>\n",
              "      <th>Pclass</th>\n",
              "      <th>SibSp</th>\n",
              "      <th>Parch</th>\n",
              "      <th>Age</th>\n",
              "      <th>Fare</th>\n",
              "      <th>WikiId</th>\n",
              "      <th>Age_wiki</th>\n",
              "      <th>Class</th>\n",
              "    </tr>\n",
              "  </thead>\n",
              "  <tbody>\n",
              "    <tr>\n",
              "      <th>0</th>\n",
              "      <td>207</td>\n",
              "      <td>2</td>\n",
              "      <td>153</td>\n",
              "      <td>0</td>\n",
              "      <td>2</td>\n",
              "      <td>194</td>\n",
              "      <td>226</td>\n",
              "      <td>4</td>\n",
              "      <td>103</td>\n",
              "      <td>0</td>\n",
              "      <td>39</td>\n",
              "      <td>1</td>\n",
              "      <td>1</td>\n",
              "      <td>1</td>\n",
              "      <td>1</td>\n",
              "      <td>-1.727912</td>\n",
              "      <td>0.873482</td>\n",
              "      <td>-0.499470</td>\n",
              "      <td>-0.400248</td>\n",
              "      <td>0.386231</td>\n",
              "      <td>-0.497413</td>\n",
              "      <td>0.752828</td>\n",
              "      <td>-0.794545</td>\n",
              "      <td>0.871140</td>\n",
              "    </tr>\n",
              "    <tr>\n",
              "      <th>1</th>\n",
              "      <td>404</td>\n",
              "      <td>1</td>\n",
              "      <td>222</td>\n",
              "      <td>0</td>\n",
              "      <td>3</td>\n",
              "      <td>389</td>\n",
              "      <td>162</td>\n",
              "      <td>4</td>\n",
              "      <td>2</td>\n",
              "      <td>9</td>\n",
              "      <td>0</td>\n",
              "      <td>1</td>\n",
              "      <td>1</td>\n",
              "      <td>1</td>\n",
              "      <td>1</td>\n",
              "      <td>-1.719625</td>\n",
              "      <td>0.873482</td>\n",
              "      <td>0.616992</td>\n",
              "      <td>-0.400248</td>\n",
              "      <td>1.371369</td>\n",
              "      <td>-0.512278</td>\n",
              "      <td>1.729823</td>\n",
              "      <td>1.304755</td>\n",
              "      <td>0.871140</td>\n",
              "    </tr>\n",
              "    <tr>\n",
              "      <th>2</th>\n",
              "      <td>270</td>\n",
              "      <td>2</td>\n",
              "      <td>74</td>\n",
              "      <td>0</td>\n",
              "      <td>2</td>\n",
              "      <td>257</td>\n",
              "      <td>65</td>\n",
              "      <td>3</td>\n",
              "      <td>154</td>\n",
              "      <td>0</td>\n",
              "      <td>0</td>\n",
              "      <td>1</td>\n",
              "      <td>1</td>\n",
              "      <td>1</td>\n",
              "      <td>1</td>\n",
              "      <td>-1.711337</td>\n",
              "      <td>-0.315819</td>\n",
              "      <td>-0.499470</td>\n",
              "      <td>-0.400248</td>\n",
              "      <td>2.553536</td>\n",
              "      <td>-0.464100</td>\n",
              "      <td>-0.332721</td>\n",
              "      <td>2.504355</td>\n",
              "      <td>-0.311121</td>\n",
              "    </tr>\n",
              "    <tr>\n",
              "      <th>3</th>\n",
              "      <td>409</td>\n",
              "      <td>2</td>\n",
              "      <td>148</td>\n",
              "      <td>0</td>\n",
              "      <td>3</td>\n",
              "      <td>393</td>\n",
              "      <td>233</td>\n",
              "      <td>4</td>\n",
              "      <td>13</td>\n",
              "      <td>0</td>\n",
              "      <td>5</td>\n",
              "      <td>1</td>\n",
              "      <td>1</td>\n",
              "      <td>1</td>\n",
              "      <td>1</td>\n",
              "      <td>-1.703050</td>\n",
              "      <td>0.873482</td>\n",
              "      <td>-0.499470</td>\n",
              "      <td>-0.400248</td>\n",
              "      <td>-0.204852</td>\n",
              "      <td>-0.482475</td>\n",
              "      <td>1.745709</td>\n",
              "      <td>-0.194745</td>\n",
              "      <td>0.871140</td>\n",
              "    </tr>\n",
              "    <tr>\n",
              "      <th>4</th>\n",
              "      <td>179</td>\n",
              "      <td>1</td>\n",
              "      <td>139</td>\n",
              "      <td>0</td>\n",
              "      <td>3</td>\n",
              "      <td>167</td>\n",
              "      <td>208</td>\n",
              "      <td>4</td>\n",
              "      <td>94</td>\n",
              "      <td>7</td>\n",
              "      <td>0</td>\n",
              "      <td>1</td>\n",
              "      <td>1</td>\n",
              "      <td>1</td>\n",
              "      <td>1</td>\n",
              "      <td>-1.694763</td>\n",
              "      <td>0.873482</td>\n",
              "      <td>0.616992</td>\n",
              "      <td>0.619896</td>\n",
              "      <td>-0.598908</td>\n",
              "      <td>-0.417491</td>\n",
              "      <td>0.601910</td>\n",
              "      <td>-0.569620</td>\n",
              "      <td>0.871140</td>\n",
              "    </tr>\n",
              "  </tbody>\n",
              "</table>\n",
              "</div>"
            ],
            "text/plain": [
              "   Name  Sex  Ticket  Cabin  ...      Fare    WikiId  Age_wiki     Class\n",
              "0   207    2     153      0  ... -0.497413  0.752828 -0.794545  0.871140\n",
              "1   404    1     222      0  ... -0.512278  1.729823  1.304755  0.871140\n",
              "2   270    2      74      0  ... -0.464100 -0.332721  2.504355 -0.311121\n",
              "3   409    2     148      0  ... -0.482475  1.745709 -0.194745  0.871140\n",
              "4   179    1     139      0  ... -0.417491  0.601910 -0.569620  0.871140\n",
              "\n",
              "[5 rows x 24 columns]"
            ]
          },
          "metadata": {
            "tags": []
          },
          "execution_count": 16
        }
      ]
    },
    {
      "cell_type": "code",
      "metadata": {
        "id": "q7ZbYnxVGqIk"
      },
      "source": [
        "test_preds = xgb_classifier.predict(X_test)\r\n",
        "test_preds = test_preds.astype(int)"
      ],
      "execution_count": 17,
      "outputs": []
    },
    {
      "cell_type": "code",
      "metadata": {
        "colab": {
          "base_uri": "https://localhost:8080/",
          "height": 204
        },
        "id": "LiG--ckAGxOf",
        "outputId": "094cdd89-99d7-4848-a248-af3df4fc0bc2"
      },
      "source": [
        "output= pd.DataFrame({'PassengerId':df_test.PassengerId, 'Survived': test_preds})\r\n",
        "output.to_csv('my_submission_titanic.csv', index=False)\r\n",
        "output.head()"
      ],
      "execution_count": 18,
      "outputs": [
        {
          "output_type": "execute_result",
          "data": {
            "text/html": [
              "<div>\n",
              "<style scoped>\n",
              "    .dataframe tbody tr th:only-of-type {\n",
              "        vertical-align: middle;\n",
              "    }\n",
              "\n",
              "    .dataframe tbody tr th {\n",
              "        vertical-align: top;\n",
              "    }\n",
              "\n",
              "    .dataframe thead th {\n",
              "        text-align: right;\n",
              "    }\n",
              "</style>\n",
              "<table border=\"1\" class=\"dataframe\">\n",
              "  <thead>\n",
              "    <tr style=\"text-align: right;\">\n",
              "      <th></th>\n",
              "      <th>PassengerId</th>\n",
              "      <th>Survived</th>\n",
              "    </tr>\n",
              "  </thead>\n",
              "  <tbody>\n",
              "    <tr>\n",
              "      <th>0</th>\n",
              "      <td>892</td>\n",
              "      <td>0</td>\n",
              "    </tr>\n",
              "    <tr>\n",
              "      <th>1</th>\n",
              "      <td>893</td>\n",
              "      <td>1</td>\n",
              "    </tr>\n",
              "    <tr>\n",
              "      <th>2</th>\n",
              "      <td>894</td>\n",
              "      <td>0</td>\n",
              "    </tr>\n",
              "    <tr>\n",
              "      <th>3</th>\n",
              "      <td>895</td>\n",
              "      <td>0</td>\n",
              "    </tr>\n",
              "    <tr>\n",
              "      <th>4</th>\n",
              "      <td>896</td>\n",
              "      <td>1</td>\n",
              "    </tr>\n",
              "  </tbody>\n",
              "</table>\n",
              "</div>"
            ],
            "text/plain": [
              "   PassengerId  Survived\n",
              "0          892         0\n",
              "1          893         1\n",
              "2          894         0\n",
              "3          895         0\n",
              "4          896         1"
            ]
          },
          "metadata": {
            "tags": []
          },
          "execution_count": 18
        }
      ]
    },
    {
      "cell_type": "code",
      "metadata": {
        "id": "MTbDCJ1TG1US"
      },
      "source": [
        ""
      ],
      "execution_count": 18,
      "outputs": []
    }
  ]
}