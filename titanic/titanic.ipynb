{
 "cells": [
  {
   "cell_type": "code",
   "execution_count": 206,
   "metadata": {},
   "outputs": [],
   "source": [
    "import numpy as np\n",
    "import pandas as pd\n",
    "import matplotlib.pyplot as plt\n",
    "import seaborn as sns\n",
    "\n",
    "%matplotlib inline"
   ]
  },
  {
   "cell_type": "code",
   "execution_count": 274,
   "metadata": {},
   "outputs": [
    {
     "name": "stdout",
     "output_type": "stream",
     "text": [
      "Number of training observations: 891\n"
     ]
    },
    {
     "data": {
      "text/html": [
       "<div>\n",
       "<style scoped>\n",
       "    .dataframe tbody tr th:only-of-type {\n",
       "        vertical-align: middle;\n",
       "    }\n",
       "\n",
       "    .dataframe tbody tr th {\n",
       "        vertical-align: top;\n",
       "    }\n",
       "\n",
       "    .dataframe thead th {\n",
       "        text-align: right;\n",
       "    }\n",
       "</style>\n",
       "<table border=\"1\" class=\"dataframe\">\n",
       "  <thead>\n",
       "    <tr style=\"text-align: right;\">\n",
       "      <th></th>\n",
       "      <th>PassengerId</th>\n",
       "      <th>Survived</th>\n",
       "      <th>Pclass</th>\n",
       "      <th>Name</th>\n",
       "      <th>Sex</th>\n",
       "      <th>Age</th>\n",
       "      <th>SibSp</th>\n",
       "      <th>Parch</th>\n",
       "      <th>Ticket</th>\n",
       "      <th>Fare</th>\n",
       "      <th>Cabin</th>\n",
       "      <th>Embarked</th>\n",
       "    </tr>\n",
       "  </thead>\n",
       "  <tbody>\n",
       "    <tr>\n",
       "      <th>0</th>\n",
       "      <td>1</td>\n",
       "      <td>0</td>\n",
       "      <td>3</td>\n",
       "      <td>Braund, Mr. Owen Harris</td>\n",
       "      <td>male</td>\n",
       "      <td>22.0</td>\n",
       "      <td>1</td>\n",
       "      <td>0</td>\n",
       "      <td>A/5 21171</td>\n",
       "      <td>7.2500</td>\n",
       "      <td>NaN</td>\n",
       "      <td>S</td>\n",
       "    </tr>\n",
       "    <tr>\n",
       "      <th>1</th>\n",
       "      <td>2</td>\n",
       "      <td>1</td>\n",
       "      <td>1</td>\n",
       "      <td>Cumings, Mrs. John Bradley (Florence Briggs Thayer)</td>\n",
       "      <td>female</td>\n",
       "      <td>38.0</td>\n",
       "      <td>1</td>\n",
       "      <td>0</td>\n",
       "      <td>PC 17599</td>\n",
       "      <td>71.2833</td>\n",
       "      <td>C85</td>\n",
       "      <td>C</td>\n",
       "    </tr>\n",
       "    <tr>\n",
       "      <th>2</th>\n",
       "      <td>3</td>\n",
       "      <td>1</td>\n",
       "      <td>3</td>\n",
       "      <td>Heikkinen, Miss. Laina</td>\n",
       "      <td>female</td>\n",
       "      <td>26.0</td>\n",
       "      <td>0</td>\n",
       "      <td>0</td>\n",
       "      <td>STON/O2. 3101282</td>\n",
       "      <td>7.9250</td>\n",
       "      <td>NaN</td>\n",
       "      <td>S</td>\n",
       "    </tr>\n",
       "    <tr>\n",
       "      <th>3</th>\n",
       "      <td>4</td>\n",
       "      <td>1</td>\n",
       "      <td>1</td>\n",
       "      <td>Futrelle, Mrs. Jacques Heath (Lily May Peel)</td>\n",
       "      <td>female</td>\n",
       "      <td>35.0</td>\n",
       "      <td>1</td>\n",
       "      <td>0</td>\n",
       "      <td>113803</td>\n",
       "      <td>53.1000</td>\n",
       "      <td>C123</td>\n",
       "      <td>S</td>\n",
       "    </tr>\n",
       "    <tr>\n",
       "      <th>4</th>\n",
       "      <td>5</td>\n",
       "      <td>0</td>\n",
       "      <td>3</td>\n",
       "      <td>Allen, Mr. William Henry</td>\n",
       "      <td>male</td>\n",
       "      <td>35.0</td>\n",
       "      <td>0</td>\n",
       "      <td>0</td>\n",
       "      <td>373450</td>\n",
       "      <td>8.0500</td>\n",
       "      <td>NaN</td>\n",
       "      <td>S</td>\n",
       "    </tr>\n",
       "  </tbody>\n",
       "</table>\n",
       "</div>"
      ],
      "text/plain": [
       "   PassengerId  Survived  Pclass  \\\n",
       "0            1         0       3   \n",
       "1            2         1       1   \n",
       "2            3         1       3   \n",
       "3            4         1       1   \n",
       "4            5         0       3   \n",
       "\n",
       "                                                  Name     Sex   Age  SibSp  \\\n",
       "0                              Braund, Mr. Owen Harris    male  22.0      1   \n",
       "1  Cumings, Mrs. John Bradley (Florence Briggs Thayer)  female  38.0      1   \n",
       "2                               Heikkinen, Miss. Laina  female  26.0      0   \n",
       "3         Futrelle, Mrs. Jacques Heath (Lily May Peel)  female  35.0      1   \n",
       "4                             Allen, Mr. William Henry    male  35.0      0   \n",
       "\n",
       "   Parch            Ticket     Fare Cabin Embarked  \n",
       "0      0         A/5 21171   7.2500   NaN        S  \n",
       "1      0          PC 17599  71.2833   C85        C  \n",
       "2      0  STON/O2. 3101282   7.9250   NaN        S  \n",
       "3      0            113803  53.1000  C123        S  \n",
       "4      0            373450   8.0500   NaN        S  "
      ]
     },
     "execution_count": 274,
     "metadata": {},
     "output_type": "execute_result"
    }
   ],
   "source": [
    "train_data = pd.read_csv('./data/train.csv')\n",
    "test_data = pd.read_csv('./data/test.csv')\n",
    "\n",
    "print('Number of training observations:', len(train_data))\n",
    "train_data.head()"
   ]
  },
  {
   "cell_type": "code",
   "execution_count": 275,
   "metadata": {},
   "outputs": [
    {
     "name": "stdout",
     "output_type": "stream",
     "text": [
      "Number of testing observations: 418\n"
     ]
    },
    {
     "data": {
      "text/html": [
       "<div>\n",
       "<style scoped>\n",
       "    .dataframe tbody tr th:only-of-type {\n",
       "        vertical-align: middle;\n",
       "    }\n",
       "\n",
       "    .dataframe tbody tr th {\n",
       "        vertical-align: top;\n",
       "    }\n",
       "\n",
       "    .dataframe thead th {\n",
       "        text-align: right;\n",
       "    }\n",
       "</style>\n",
       "<table border=\"1\" class=\"dataframe\">\n",
       "  <thead>\n",
       "    <tr style=\"text-align: right;\">\n",
       "      <th></th>\n",
       "      <th>PassengerId</th>\n",
       "      <th>Pclass</th>\n",
       "      <th>Name</th>\n",
       "      <th>Sex</th>\n",
       "      <th>Age</th>\n",
       "      <th>SibSp</th>\n",
       "      <th>Parch</th>\n",
       "      <th>Ticket</th>\n",
       "      <th>Fare</th>\n",
       "      <th>Cabin</th>\n",
       "      <th>Embarked</th>\n",
       "    </tr>\n",
       "  </thead>\n",
       "  <tbody>\n",
       "    <tr>\n",
       "      <th>0</th>\n",
       "      <td>892</td>\n",
       "      <td>3</td>\n",
       "      <td>Kelly, Mr. James</td>\n",
       "      <td>male</td>\n",
       "      <td>34.5</td>\n",
       "      <td>0</td>\n",
       "      <td>0</td>\n",
       "      <td>330911</td>\n",
       "      <td>7.8292</td>\n",
       "      <td>NaN</td>\n",
       "      <td>Q</td>\n",
       "    </tr>\n",
       "    <tr>\n",
       "      <th>1</th>\n",
       "      <td>893</td>\n",
       "      <td>3</td>\n",
       "      <td>Wilkes, Mrs. James (Ellen Needs)</td>\n",
       "      <td>female</td>\n",
       "      <td>47.0</td>\n",
       "      <td>1</td>\n",
       "      <td>0</td>\n",
       "      <td>363272</td>\n",
       "      <td>7.0000</td>\n",
       "      <td>NaN</td>\n",
       "      <td>S</td>\n",
       "    </tr>\n",
       "    <tr>\n",
       "      <th>2</th>\n",
       "      <td>894</td>\n",
       "      <td>2</td>\n",
       "      <td>Myles, Mr. Thomas Francis</td>\n",
       "      <td>male</td>\n",
       "      <td>62.0</td>\n",
       "      <td>0</td>\n",
       "      <td>0</td>\n",
       "      <td>240276</td>\n",
       "      <td>9.6875</td>\n",
       "      <td>NaN</td>\n",
       "      <td>Q</td>\n",
       "    </tr>\n",
       "    <tr>\n",
       "      <th>3</th>\n",
       "      <td>895</td>\n",
       "      <td>3</td>\n",
       "      <td>Wirz, Mr. Albert</td>\n",
       "      <td>male</td>\n",
       "      <td>27.0</td>\n",
       "      <td>0</td>\n",
       "      <td>0</td>\n",
       "      <td>315154</td>\n",
       "      <td>8.6625</td>\n",
       "      <td>NaN</td>\n",
       "      <td>S</td>\n",
       "    </tr>\n",
       "    <tr>\n",
       "      <th>4</th>\n",
       "      <td>896</td>\n",
       "      <td>3</td>\n",
       "      <td>Hirvonen, Mrs. Alexander (Helga E Lindqvist)</td>\n",
       "      <td>female</td>\n",
       "      <td>22.0</td>\n",
       "      <td>1</td>\n",
       "      <td>1</td>\n",
       "      <td>3101298</td>\n",
       "      <td>12.2875</td>\n",
       "      <td>NaN</td>\n",
       "      <td>S</td>\n",
       "    </tr>\n",
       "  </tbody>\n",
       "</table>\n",
       "</div>"
      ],
      "text/plain": [
       "   PassengerId  Pclass                                          Name     Sex  \\\n",
       "0          892       3                              Kelly, Mr. James    male   \n",
       "1          893       3              Wilkes, Mrs. James (Ellen Needs)  female   \n",
       "2          894       2                     Myles, Mr. Thomas Francis    male   \n",
       "3          895       3                              Wirz, Mr. Albert    male   \n",
       "4          896       3  Hirvonen, Mrs. Alexander (Helga E Lindqvist)  female   \n",
       "\n",
       "    Age  SibSp  Parch   Ticket     Fare Cabin Embarked  \n",
       "0  34.5      0      0   330911   7.8292   NaN        Q  \n",
       "1  47.0      1      0   363272   7.0000   NaN        S  \n",
       "2  62.0      0      0   240276   9.6875   NaN        Q  \n",
       "3  27.0      0      0   315154   8.6625   NaN        S  \n",
       "4  22.0      1      1  3101298  12.2875   NaN        S  "
      ]
     },
     "execution_count": 275,
     "metadata": {},
     "output_type": "execute_result"
    }
   ],
   "source": [
    "print('Number of testing observations:', len(test_data))\n",
    "test_data.head()"
   ]
  },
  {
   "cell_type": "markdown",
   "metadata": {},
   "source": [
    "# EDA (Exploratory Data Analysis)"
   ]
  },
  {
   "cell_type": "markdown",
   "metadata": {},
   "source": [
    "## Check for empty/NaN Values"
   ]
  },
  {
   "cell_type": "code",
   "execution_count": 276,
   "metadata": {},
   "outputs": [
    {
     "name": "stdout",
     "output_type": "stream",
     "text": [
      "Number of empty values on \"PassengerId\" column: 0\n",
      "Number of empty values on \"Survived\" column: 0\n",
      "Number of empty values on \"Pclass\" column: 0\n",
      "Number of empty values on \"Name\" column: 0\n",
      "Number of empty values on \"Sex\" column: 0\n",
      "Number of empty values on \"Age\" column: 177\n",
      "Number of empty values on \"SibSp\" column: 0\n",
      "Number of empty values on \"Parch\" column: 0\n",
      "Number of empty values on \"Ticket\" column: 0\n",
      "Number of empty values on \"Fare\" column: 0\n",
      "Number of empty values on \"Cabin\" column: 687\n",
      "Number of empty values on \"Embarked\" column: 2\n"
     ]
    }
   ],
   "source": [
    "# check for empty values on training set\n",
    "for col_headers in train_data.columns:\n",
    "    print('Number of empty values on \"{}\" column: {}'.format(col_headers, train_data[col_headers].isnull().sum()))"
   ]
  },
  {
   "cell_type": "code",
   "execution_count": 277,
   "metadata": {},
   "outputs": [
    {
     "name": "stdout",
     "output_type": "stream",
     "text": [
      "Number of empty values on \"PassengerId\" column: 0\n",
      "Number of empty values on \"Pclass\" column: 0\n",
      "Number of empty values on \"Name\" column: 0\n",
      "Number of empty values on \"Sex\" column: 0\n",
      "Number of empty values on \"Age\" column: 86\n",
      "Number of empty values on \"SibSp\" column: 0\n",
      "Number of empty values on \"Parch\" column: 0\n",
      "Number of empty values on \"Ticket\" column: 0\n",
      "Number of empty values on \"Fare\" column: 1\n",
      "Number of empty values on \"Cabin\" column: 327\n",
      "Number of empty values on \"Embarked\" column: 0\n"
     ]
    }
   ],
   "source": [
    "# check for empty values on test set\n",
    "for col_headers in test_data.columns:\n",
    "    print('Number of empty values on \"{}\" column: {}'.format(col_headers, test_data[col_headers].isnull().sum()))"
   ]
  },
  {
   "cell_type": "markdown",
   "metadata": {},
   "source": [
    "## Fill in Empty Values"
   ]
  },
  {
   "cell_type": "code",
   "execution_count": 278,
   "metadata": {},
   "outputs": [
    {
     "name": "stdout",
     "output_type": "stream",
     "text": [
      "--After filling in empty values on training data--\n",
      "Number of empty values on \"PassengerId\" column: 0\n",
      "Number of empty values on \"Survived\" column: 0\n",
      "Number of empty values on \"Pclass\" column: 0\n",
      "Number of empty values on \"Name\" column: 0\n",
      "Number of empty values on \"Sex\" column: 0\n",
      "Number of empty values on \"Age\" column: 177\n",
      "Number of empty values on \"SibSp\" column: 0\n",
      "Number of empty values on \"Parch\" column: 0\n",
      "Number of empty values on \"Ticket\" column: 0\n",
      "Number of empty values on \"Fare\" column: 0\n",
      "Number of empty values on \"Cabin\" column: 687\n",
      "Number of empty values on \"Embarked\" column: 0\n"
     ]
    }
   ],
   "source": [
    "# fill in empty values in 'Embarked' column\n",
    "EMBARKED_MODE = train_data['Embarked'].mode()\n",
    "train_data['Embarked'] = train_data['Embarked'].fillna(EMBARKED_MODE[0])\n",
    "# fill in empty values in 'Fare' column\n",
    "FARE_MEAN = train_data['Fare'].mean()\n",
    "train_data['Fare'] = train_data['Fare'].fillna(FARE_MEAN)\n",
    "\n",
    "# check for empty values on training set\n",
    "print('--After filling in empty values on training data--')\n",
    "for col_headers in train_data.columns:\n",
    "    print('Number of empty values on \"{}\" column: {}'.format(col_headers, train_data[col_headers].isnull().sum()))"
   ]
  },
  {
   "cell_type": "code",
   "execution_count": 279,
   "metadata": {},
   "outputs": [
    {
     "name": "stdout",
     "output_type": "stream",
     "text": [
      "--After filling in empty values on training data--\n",
      "Number of empty values on \"PassengerId\" column: 0\n",
      "Number of empty values on \"Pclass\" column: 0\n",
      "Number of empty values on \"Name\" column: 0\n",
      "Number of empty values on \"Sex\" column: 0\n",
      "Number of empty values on \"Age\" column: 86\n",
      "Number of empty values on \"SibSp\" column: 0\n",
      "Number of empty values on \"Parch\" column: 0\n",
      "Number of empty values on \"Ticket\" column: 0\n",
      "Number of empty values on \"Fare\" column: 0\n",
      "Number of empty values on \"Cabin\" column: 327\n",
      "Number of empty values on \"Embarked\" column: 0\n"
     ]
    }
   ],
   "source": [
    "# fill in empty values in 'Fare' column\n",
    "FARE_MEAN = test_data['Fare'].mean()\n",
    "test_data['Fare'] = test_data['Fare'].fillna(FARE_MEAN)\n",
    "\n",
    "# check for empty values on training set\n",
    "print('--After filling in empty values on training data--')\n",
    "for col_headers in test_data.columns:\n",
    "    print('Number of empty values on \"{}\" column: {}'.format(col_headers, test_data[col_headers].isnull().sum()))"
   ]
  },
  {
   "cell_type": "code",
   "execution_count": 280,
   "metadata": {},
   "outputs": [],
   "source": [
    "# replace 'male' values to 0 and 'female' values to 1\n",
    "train_data = train_data.replace({'male': 0, 'female': 1})\n",
    "test_data = test_data.replace({'male': 0, 'female': 1})"
   ]
  },
  {
   "cell_type": "code",
   "execution_count": 281,
   "metadata": {},
   "outputs": [],
   "source": [
    "# get one-hot encoding for 'Embarked' column\n",
    "train_embarked = pd.get_dummies(train_data['Embarked'])\n",
    "for c in train_embarked.columns:\n",
    "    train_data[c] = train_embarked[c]\n",
    "    \n",
    "test_embarked = pd.get_dummies(test_data['Embarked'])\n",
    "for c in test_embarked.columns:\n",
    "    test_data[c] = test_embarked[c]"
   ]
  },
  {
   "cell_type": "markdown",
   "metadata": {},
   "source": [
    "## Survival Rate"
   ]
  },
  {
   "cell_type": "code",
   "execution_count": 282,
   "metadata": {},
   "outputs": [
    {
     "data": {
      "image/png": "[encoded data removed]",
      "text/plain": [
       "<Figure size 432x288 with 1 Axes>"
      ]
     },
     "metadata": {
      "needs_background": "light"
     },
     "output_type": "display_data"
    }
   ],
   "source": [
    "# visualize the number of survived passengers\n",
    "LABEL = ['Not survived', 'Survived']\n",
    "df_survived = train_data[['Survived']].value_counts()\n",
    "df_survived.plot(kind='bar', color=['red', 'green'], alpha=.3)\n",
    "\n",
    "plt.title('Passenger Survival Counts')\n",
    "plt.xlabel('')\n",
    "plt.ylabel('Count')\n",
    "plt.xticks(np.arange(2), LABEL)\n",
    "plt.show()"
   ]
  },
  {
   "cell_type": "markdown",
   "metadata": {},
   "source": [
    "## Gender"
   ]
  },
  {
   "cell_type": "code",
   "execution_count": 283,
   "metadata": {},
   "outputs": [
    {
     "data": {
      "image/png": "[encoded data removed]",
      "text/plain": [
       "<Figure size 432x288 with 1 Axes>"
      ]
     },
     "metadata": {
      "needs_background": "light"
     },
     "output_type": "display_data"
    }
   ],
   "source": [
    "# visualize the count of passenger genders\n",
    "GENDER = ['Male', 'Female']\n",
    "df_sex = train_data[['Sex']].value_counts()\n",
    "df_sex.plot(kind='bar', color=['blue', 'red'], alpha=.3)\n",
    "\n",
    "plt.title('Passenger Gender Counts')\n",
    "plt.xlabel('')\n",
    "plt.ylabel('Count')\n",
    "plt.xticks(np.arange(2), GENDER)\n",
    "\n",
    "plt.show()"
   ]
  },
  {
   "cell_type": "code",
   "execution_count": 284,
   "metadata": {},
   "outputs": [
    {
     "data": {
      "text/html": [
       "<div>\n",
       "<style scoped>\n",
       "    .dataframe tbody tr th:only-of-type {\n",
       "        vertical-align: middle;\n",
       "    }\n",
       "\n",
       "    .dataframe tbody tr th {\n",
       "        vertical-align: top;\n",
       "    }\n",
       "\n",
       "    .dataframe thead th {\n",
       "        text-align: right;\n",
       "    }\n",
       "</style>\n",
       "<table border=\"1\" class=\"dataframe\">\n",
       "  <thead>\n",
       "    <tr style=\"text-align: right;\">\n",
       "      <th></th>\n",
       "      <th>Survived</th>\n",
       "      <th>Sex</th>\n",
       "      <th>Counts</th>\n",
       "    </tr>\n",
       "  </thead>\n",
       "  <tbody>\n",
       "    <tr>\n",
       "      <th>0</th>\n",
       "      <td>0</td>\n",
       "      <td>0</td>\n",
       "      <td>468</td>\n",
       "    </tr>\n",
       "    <tr>\n",
       "      <th>1</th>\n",
       "      <td>0</td>\n",
       "      <td>1</td>\n",
       "      <td>81</td>\n",
       "    </tr>\n",
       "    <tr>\n",
       "      <th>2</th>\n",
       "      <td>1</td>\n",
       "      <td>0</td>\n",
       "      <td>109</td>\n",
       "    </tr>\n",
       "    <tr>\n",
       "      <th>3</th>\n",
       "      <td>1</td>\n",
       "      <td>1</td>\n",
       "      <td>233</td>\n",
       "    </tr>\n",
       "  </tbody>\n",
       "</table>\n",
       "</div>"
      ],
      "text/plain": [
       "   Survived  Sex  Counts\n",
       "0         0    0     468\n",
       "1         0    1      81\n",
       "2         1    0     109\n",
       "3         1    1     233"
      ]
     },
     "execution_count": 284,
     "metadata": {},
     "output_type": "execute_result"
    }
   ],
   "source": [
    "# group the passengers who survived by gender\n",
    "df_survived_gender = train_data[['Survived', 'Sex']].value_counts()\n",
    "df_survived_gender = pd.pivot_table(df_survived_gender.to_frame(), values=0, index=['Survived', 'Sex'], aggfunc=np.sum)\n",
    "df_survived_gender = df_survived_gender.reset_index()\n",
    "df_survived_gender = df_survived_gender.rename(columns={0: 'Counts'})\n",
    "\n",
    "df_survived_gender"
   ]
  },
  {
   "cell_type": "code",
   "execution_count": 285,
   "metadata": {},
   "outputs": [
    {
     "data": {
      "image/png": "[encoded data removed]",
      "text/plain": [
       "<Figure size 432x288 with 1 Axes>"
      ]
     },
     "metadata": {
      "needs_background": "light"
     },
     "output_type": "display_data"
    }
   ],
   "source": [
    "# number of passengers who didn't survive grouped by gender\n",
    "x = np.arange(len(GENDER))  # the label locations\n",
    "width = 0.35  # the width of the bars\n",
    "\n",
    "fig, ax = plt.subplots()\n",
    "\n",
    "ax.bar(x - width/2, df_survived_gender[df_survived_gender['Survived'] == 0]['Counts'], width)\n",
    "ax.bar(x + width/2, df_survived_gender[df_survived_gender['Survived'] == 1]['Counts'], width)\n",
    "# plt.xticks(np.arange(2), GENDER)\n",
    "ax.set_ylabel('Passenger Counts')\n",
    "ax.set_title('Number of Passengers Who Survived Based on Genders')\n",
    "ax.set_xticks(x)\n",
    "ax.set_xticklabels(GENDER)\n",
    "ax.legend(['Not Survived', 'Survived'])\n",
    "\n",
    "plt.show()"
   ]
  },
  {
   "cell_type": "code",
   "execution_count": 286,
   "metadata": {},
   "outputs": [
    {
     "data": {
      "image/png": "[encoded data removed]",
      "text/plain": [
       "<Figure size 864x576 with 2 Axes>"
      ]
     },
     "metadata": {
      "needs_background": "light"
     },
     "output_type": "display_data"
    }
   ],
   "source": [
    "### passengers grouped by gender and age\n",
    "female = train_data[train_data['Sex'] == 1]\n",
    "male = train_data[train_data['Sex'] == 0]\n",
    "\n",
    "fig, axes = plt.subplots(1, 2, figsize=(12,8))\n",
    "ax = sns.histplot(female[female['Survived'] == 1].Age.dropna(), label='Survived', bins=18, kde=False, ax=axes[0], color='green', alpha=0.5)\n",
    "ax = sns.histplot(female[female['Survived'] == 0].Age.dropna(), label='Not Survived', bins=40, kde=False, ax=axes[0], color='red', alpha=0.5)\n",
    "axes[0].legend()\n",
    "axes[0].set_title('Female')\n",
    "\n",
    "ax = sns.histplot(male[male['Survived'] == 1].Age.dropna(), label='Survived', bins=18, kde=False, ax=axes[1], color='green', alpha=0.5)\n",
    "ax = sns.histplot(male[male['Survived'] == 0].Age.dropna(), label='Not Survived', bins=18, kde=False, ax=axes[1], color='red', alpha=0.5)\n",
    "ax.legend()\n",
    "ax.set_title('Male')\n",
    "\n",
    "plt.show()"
   ]
  },
  {
   "cell_type": "markdown",
   "metadata": {},
   "source": [
    "## Ticket Class (PClass)"
   ]
  },
  {
   "cell_type": "code",
   "execution_count": 287,
   "metadata": {},
   "outputs": [
    {
     "data": {
      "image/png": "[encoded data removed]",
      "text/plain": [
       "<Figure size 432x288 with 1 Axes>"
      ]
     },
     "metadata": {
      "needs_background": "light"
     },
     "output_type": "display_data"
    }
   ],
   "source": [
    "# visualize the count of ticket class\n",
    "df_pclass = train_data[['Pclass']].value_counts()\n",
    "df_pclass.plot(kind='bar')\n",
    "\n",
    "plt.title('Passenger Distribution Sorted by Ticket Class')\n",
    "plt.xlabel('Ticket Class')\n",
    "plt.ylabel('Counts')\n",
    "\n",
    "plt.show()"
   ]
  },
  {
   "cell_type": "code",
   "execution_count": 288,
   "metadata": {},
   "outputs": [
    {
     "data": {
      "image/png": "[encoded data removed]",
      "text/plain": [
       "<Figure size 432x288 with 1 Axes>"
      ]
     },
     "metadata": {
      "needs_background": "light"
     },
     "output_type": "display_data"
    }
   ],
   "source": [
    "# visualize passengers who survived based on ticket class\n",
    "TICKET = ['1', '2', '3']\n",
    "df_survived_pclass = train_data[['Pclass', 'Survived']].value_counts()\n",
    "df_survived_pclass  = pd.pivot_table(df_survived_pclass.to_frame(), values=0, index=['Survived', 'Pclass'], aggfunc=np.sum)\n",
    "df_survived_pclass  = df_survived_pclass.reset_index()\n",
    "df_survived_pclass  = df_survived_pclass.rename(columns={0: 'Counts'})\n",
    "\n",
    "fig, ax = plt.subplots()\n",
    "x = np.arange(len(TICKET))\n",
    "\n",
    "ax.bar(x - width/2, df_survived_pclass[df_survived_pclass['Survived'] == 0]['Counts'], width, label='Not Survived')\n",
    "ax.bar(x + width/2, df_survived_pclass[df_survived_pclass['Survived'] == 1]['Counts'], width, label='Survived')\n",
    "\n",
    "ax.set_xlabel('Ticket Class')\n",
    "ax.set_ylabel('Passenger Counts')\n",
    "ax.set_title('Number of Passengers Who Survived Based on Ticket Class')\n",
    "ax.set_xticks(x)\n",
    "ax.set_xticklabels(TICKET)\n",
    "ax.legend()\n",
    "\n",
    "plt.show()\n",
    "# df_survived_pclass.plot(kind='bar')\n",
    "# plt.title('Number of Passengers Who Survived Based on Ticket Class')\n",
    "# plt.ylabel('Passengers Survived')\n",
    "# plt.xlabel('Ticket Class')\n",
    "\n",
    "# plt.show()"
   ]
  },
  {
   "cell_type": "markdown",
   "metadata": {},
   "source": [
    "## Age"
   ]
  },
  {
   "cell_type": "code",
   "execution_count": 289,
   "metadata": {},
   "outputs": [
    {
     "data": {
      "image/png": "[encoded data removed]",
      "text/plain": [
       "<Figure size 720x576 with 1 Axes>"
      ]
     },
     "metadata": {
      "needs_background": "light"
     },
     "output_type": "display_data"
    }
   ],
   "source": [
    "# visualize age distribution\n",
    "df_age = train_data[['Age']].value_counts()\n",
    "plt.figure(figsize=(10,8))\n",
    "sns.histplot(data=df_age, x='Age')\n",
    "\n",
    "plt.title('Passenger Age Distribution')\n",
    "# plt.xlabel('Age')\n",
    "# plt.ylabel('Counts')\n",
    "\n",
    "plt.show()"
   ]
  },
  {
   "cell_type": "markdown",
   "metadata": {},
   "source": [
    "## Embarked"
   ]
  },
  {
   "cell_type": "code",
   "execution_count": 290,
   "metadata": {},
   "outputs": [
    {
     "data": {
      "image/png": "[encoded data removed]",
      "text/plain": [
       "<Figure size 432x288 with 1 Axes>"
      ]
     },
     "metadata": {
      "needs_background": "light"
     },
     "output_type": "display_data"
    }
   ],
   "source": [
    "# visualize the number of passengers based on port of embarktion\n",
    "PORTS = ['Southampton', 'Cherbourg', 'Queenstown']\n",
    "df_port = train_data[['Embarked']].value_counts()\n",
    "df_port.plot(kind='bar')\n",
    "\n",
    "plt.title('Number of Passengers Embarked on each port')\n",
    "plt.xlabel('Ports')\n",
    "plt.ylabel('Counts')\n",
    "plt.xticks(np.arange(3), PORTS)\n",
    "\n",
    "plt.show()"
   ]
  },
  {
   "cell_type": "code",
   "execution_count": 291,
   "metadata": {},
   "outputs": [
    {
     "data": {
      "image/png": "[encoded data removed]",
      "text/plain": [
       "<Figure size 432x288 with 1 Axes>"
      ]
     },
     "metadata": {
      "needs_background": "light"
     },
     "output_type": "display_data"
    }
   ],
   "source": [
    "df_survived_port = train_data[['Embarked', 'Survived']].value_counts()\n",
    "df_survived_port  = pd.pivot_table(df_survived_port.to_frame(), values=0, index=['Survived', 'Embarked'], aggfunc=np.sum)\n",
    "df_survived_port  = df_survived_port.reset_index()\n",
    "df_survived_port  = df_survived_port.rename(columns={0: 'Counts'})\n",
    "\n",
    "fig, ax = plt.subplots()\n",
    "x = np.arange(len(PORTS))\n",
    "\n",
    "ax.bar(x - width/2, df_survived_pclass[df_survived_pclass['Survived'] == 0]['Counts'], width, label='Not Survived')\n",
    "ax.bar(x + width/2, df_survived_pclass[df_survived_pclass['Survived'] == 1]['Counts'], width, label='Survived')\n",
    "\n",
    "ax.set_xlabel('Embarkment Port')\n",
    "ax.set_ylabel('Passenger Counts')\n",
    "ax.set_title('Number of Passengers Who Survived Based on Port of Embarkment')\n",
    "ax.set_xticks(x)\n",
    "ax.set_xticklabels(PORTS)\n",
    "ax.legend()\n",
    "\n",
    "plt.show()"
   ]
  },
  {
   "cell_type": "code",
   "execution_count": 292,
   "metadata": {},
   "outputs": [
    {
     "data": {
      "image/png": "[encoded data removed]",
      "text/plain": [
       "<Figure size 503.175x864 with 3 Axes>"
      ]
     },
     "metadata": {
      "needs_background": "light"
     },
     "output_type": "display_data"
    }
   ],
   "source": [
    "facet_grid = sns.FacetGrid(train_data, row='Embarked', height=4, aspect=1.6)\n",
    "facet_grid.map(sns.pointplot, 'Pclass', 'Survived', 'Sex', order=None, hue_order=None)\n",
    "facet_grid.add_legend()\n",
    "\n",
    "plt.show()"
   ]
  },
  {
   "cell_type": "markdown",
   "metadata": {},
   "source": [
    "## Number of Siblings/Spouses (SibSp)"
   ]
  },
  {
   "cell_type": "code",
   "execution_count": 293,
   "metadata": {},
   "outputs": [
    {
     "data": {
      "image/png": "[encoded data removed]",
      "text/plain": [
       "<Figure size 432x288 with 1 Axes>"
      ]
     },
     "metadata": {
      "needs_background": "light"
     },
     "output_type": "display_data"
    }
   ],
   "source": [
    "# visualize the number of passengers who have siblings or spouses\n",
    "df_sibsp = train_data[['SibSp']].value_counts()\n",
    "df_sibsp.plot(kind='bar')\n",
    "\n",
    "plt.title('Passengers who have Siblings/Spouses')\n",
    "plt.xlabel('Number of Siblings or Spouses')\n",
    "plt.ylabel('Counts')\n",
    "\n",
    "plt.show()"
   ]
  },
  {
   "cell_type": "code",
   "execution_count": 296,
   "metadata": {},
   "outputs": [
    {
     "data": {
      "image/png": "[encoded data removed]",
      "text/plain": [
       "<Figure size 432x288 with 1 Axes>"
      ]
     },
     "metadata": {
      "needs_background": "light"
     },
     "output_type": "display_data"
    }
   ],
   "source": [
    "# visualize passengers who have siblings/spouses against survival rate\n",
    "SIBSP = train_data.SibSp.unique()\n",
    "\n",
    "df_survived_sibsp = train_data[['SibSp', 'Survived']].value_counts()\n",
    "df_survived_sibsp = pd.pivot_table(df_survived_sibsp.to_frame(), values=0, index=['Survived', 'SibSp'], aggfunc=np.sum)\n",
    "df_survived_sibsp = df_survived_sibsp.reset_index()\n",
    "df_survived_sibsp = df_survived_sibsp.rename(columns={0: 'Counts'})\n",
    "\n",
    "df_temp_sibsp = df_survived_sibsp[df_survived_sibsp['Survived'] == 0]\n",
    "df_temp_sibsp2 = df_survived_sibsp[df_survived_sibsp['Survived'] == 1]\n",
    "\n",
    "df_temp_sibsp.set_index('SibSp', inplace=True)\n",
    "df_temp_sibsp2.set_index('SibSp', inplace=True)\n",
    "d = pd.DataFrame([[1, 0], [1, 0]], columns=['Survived','Counts'])\n",
    "df_temp_sibsp2 = df_temp_sibsp2.append(d)\n",
    "# df_temp_sibsp2.loc[5] = [1,0]\n",
    "# df_temp_sibsp2.loc[8] = [1,0]\n",
    "\n",
    "# for i in range(len(df_temp_sibsp)):\n",
    "#     df_temp_sibsp2.loc[i] = 0\n",
    "    \n",
    "# df_temp_sibsp2 = df_temp_sibsp2.sort_index()\n",
    "\n",
    "# for i in range(7, len(df_temp_sibsp2)):\n",
    "#     df_temp_sibsp.loc[i] = 0\n",
    "\n",
    "fig, ax = plt.subplots()\n",
    "x = np.arange(len(SIBSP))\n",
    "\n",
    "ax.bar(x - width/2, df_temp_sibsp['Counts'], width, label='Not Survived')\n",
    "ax.bar(x + width/2, df_temp_sibsp2['Counts'], width, label='Survived')\n",
    "\n",
    "ax.set_xlabel('Number of Siblings/Spouses')\n",
    "ax.set_ylabel('Passenger Counts')\n",
    "ax.set_title('Number of Passengers Who Survived Based on Number of Spouses/Siblings')\n",
    "ax.set_xticks(x)\n",
    "ax.set_xticklabels(SIBSP)\n",
    "ax.legend()\n",
    "\n",
    "plt.show()"
   ]
  },
  {
   "cell_type": "markdown",
   "metadata": {},
   "source": [
    "## Number of Parents/Children (Parch)"
   ]
  },
  {
   "cell_type": "code",
   "execution_count": 297,
   "metadata": {},
   "outputs": [
    {
     "data": {
      "image/png": "[encoded data removed]",
      "text/plain": [
       "<Figure size 432x288 with 1 Axes>"
      ]
     },
     "metadata": {
      "needs_background": "light"
     },
     "output_type": "display_data"
    }
   ],
   "source": [
    "# visualize the number of passengers who have parents or children\n",
    "df_parch = train_data[['Parch']].value_counts()\n",
    "df_parch.plot(kind='bar')\n",
    "\n",
    "plt.title('Passengers who have Parents/Children')\n",
    "plt.xlabel('Number of Parents or Children')\n",
    "plt.ylabel('Counts')\n",
    "\n",
    "plt.show()"
   ]
  },
  {
   "cell_type": "code",
   "execution_count": 298,
   "metadata": {},
   "outputs": [
    {
     "data": {
      "image/png": "[encoded data removed]",
      "text/plain": [
       "<Figure size 432x288 with 1 Axes>"
      ]
     },
     "metadata": {
      "needs_background": "light"
     },
     "output_type": "display_data"
    }
   ],
   "source": [
    "# visualize passengers who have parents/children against survival rate\n",
    "PARCH = train_data.Parch.unique()\n",
    "\n",
    "df_survived_parch = train_data[['Parch', 'Survived']].value_counts()\n",
    "df_survived_parch = pd.pivot_table(df_survived_parch.to_frame(), values=0, index=['Survived', 'Parch'], aggfunc=np.sum)\n",
    "df_survived_parch = df_survived_parch.reset_index()\n",
    "df_survived_parch = df_survived_parch.rename(columns={0: 'Counts'})\n",
    "\n",
    "df_temp_parch = df_survived_parch[df_survived_parch['Survived'] == 0]\n",
    "df_temp_parch2 = df_survived_parch[df_survived_parch['Survived'] == 1]\n",
    "\n",
    "df_temp_parch.set_index('Parch', inplace=True)\n",
    "df_temp_parch2.set_index('Parch', inplace=True)\n",
    "d = pd.DataFrame([[1, 0], [1, 0]], columns=['Survived','Counts'])\n",
    "df_temp_parch2 = df_temp_parch2.append(d)\n",
    "\n",
    "# for i in range(len(df_temp_sibsp)):\n",
    "#     df_temp_sibsp2.loc[i] = 0\n",
    "    \n",
    "# df_temp_sibsp2 = df_temp_sibsp2.sort_index()\n",
    "\n",
    "# for i in range(7, len(df_temp_sibsp2)):\n",
    "#     df_temp_sibsp.loc[i] = 0\n",
    "\n",
    "fig, ax = plt.subplots()\n",
    "x = np.arange(len(PARCH))\n",
    "\n",
    "ax.bar(x - width/2, df_temp_parch['Counts'], width, label='Not Survived')\n",
    "ax.bar(x + width/2, df_temp_parch2['Counts'], width, label='Survived')\n",
    "\n",
    "ax.set_xlabel('Number of Parents/Children')\n",
    "ax.set_ylabel('Passenger Counts')\n",
    "ax.set_title('Number of Passengers Who Survived Based on Number of Parents/Children')\n",
    "ax.set_xticks(x)\n",
    "ax.set_xticklabels(PARCH)\n",
    "ax.legend()\n",
    "\n",
    "plt.show()"
   ]
  },
  {
   "cell_type": "markdown",
   "metadata": {},
   "source": [
    "## Fare"
   ]
  },
  {
   "cell_type": "code",
   "execution_count": 299,
   "metadata": {},
   "outputs": [
    {
     "data": {
      "text/plain": [
       "Text(0, 0.5, 'Counts')"
      ]
     },
     "execution_count": 299,
     "metadata": {},
     "output_type": "execute_result"
    },
    {
     "data": {
      "image/png": "[encoded data removed]",
      "text/plain": [
       "<Figure size 720x576 with 1 Axes>"
      ]
     },
     "metadata": {
      "needs_background": "light"
     },
     "output_type": "display_data"
    }
   ],
   "source": [
    "# visualize fare distribution\n",
    "df_fare = train_data[['Fare']].value_counts()\n",
    "df_fare = df_fare.reset_index()\n",
    "\n",
    "plt.figure(figsize=(10,8))\n",
    "plt.title('Fare Distribution')\n",
    "sns.scatterplot(x=df_fare['Fare'], y=df_fare[0], data=df_fare)\n",
    "plt.ylabel('Counts')"
   ]
  },
  {
   "cell_type": "code",
   "execution_count": 300,
   "metadata": {},
   "outputs": [
    {
     "data": {
      "image/png": "[encoded data removed]",
      "text/plain": [
       "<Figure size 432x288 with 1 Axes>"
      ]
     },
     "metadata": {
      "needs_background": "light"
     },
     "output_type": "display_data"
    }
   ],
   "source": [
    "# visualize relattionship between fare against survival\n",
    "SURVIVED = ['No', 'Yes']\n",
    "\n",
    "df_survived_fare = train_data[['Fare', 'Survived']]\n",
    "sns.barplot(x=df_survived_fare['Fare'], y=df_survived_fare['Survived'], data=df_survived_fare, orient='h')\n",
    "\n",
    "plt.title('Passengers Who Survived Based on Ticket Fare')\n",
    "plt.yticks(np.arange(2), SURVIVED)\n",
    "plt.ylabel('Survived?')\n",
    "plt.xlabel('Ticket Fare')\n",
    "\n",
    "plt.show()"
   ]
  },
  {
   "cell_type": "markdown",
   "metadata": {},
   "source": [
    "## Pearson Correlation"
   ]
  },
  {
   "cell_type": "code",
   "execution_count": 233,
   "metadata": {},
   "outputs": [
    {
     "data": {
      "image/png": "[encoded data removed]",
      "text/plain": [
       "<Figure size 864x576 with 2 Axes>"
      ]
     },
     "metadata": {
      "needs_background": "light"
     },
     "output_type": "display_data"
    }
   ],
   "source": [
    "# pearson correlation against features and label\n",
    "train_corr = train_data.corr()\n",
    "plt.figure(figsize=(12,8))\n",
    "\n",
    "sns.heatmap(train_corr, annot=True, cmap='viridis')\n",
    "plt.title('Correlation Heatmap Between Features and The Label')\n",
    "\n",
    "plt.show()"
   ]
  },
  {
   "cell_type": "markdown",
   "metadata": {},
   "source": [
    "## Feature Engineering"
   ]
  },
  {
   "cell_type": "code",
   "execution_count": 301,
   "metadata": {},
   "outputs": [],
   "source": [
    "import re"
   ]
  },
  {
   "cell_type": "code",
   "execution_count": 302,
   "metadata": {},
   "outputs": [],
   "source": [
    "title_list = []\n",
    "for p_name in train_data['Name']:\n",
    "    title = re.findall(r'(Mr|Mrs|Ms|Miss|Mister|Lady|Sir|Dr|Mme|Master|Major|Rev|Don|Col|Mlle|Capt|Countess|Jonkheer|Dona)\\.', p_name)\n",
    "    title_list.append(title[0])\n",
    "    \n",
    "train_data['Title'] = title_list\n",
    "\n",
    "title_list = []\n",
    "for p_name in test_data['Name']:\n",
    "    title = re.findall(r'(Mr|Mrs|Ms|Miss|Mister|Lady|Sir|Dr|Mme|Master|Major|Rev|Don|Col|Mlle|Capt|Countess|Jonkheer|Dona)\\.', p_name)\n",
    "    title_list.append(title[0])\n",
    "    \n",
    "test_data['Title'] = title_list"
   ]
  },
  {
   "cell_type": "code",
   "execution_count": 321,
   "metadata": {},
   "outputs": [
    {
     "data": {
      "text/html": [
       "<div>\n",
       "<style scoped>\n",
       "    .dataframe tbody tr th:only-of-type {\n",
       "        vertical-align: middle;\n",
       "    }\n",
       "\n",
       "    .dataframe tbody tr th {\n",
       "        vertical-align: top;\n",
       "    }\n",
       "\n",
       "    .dataframe thead th {\n",
       "        text-align: right;\n",
       "    }\n",
       "</style>\n",
       "<table border=\"1\" class=\"dataframe\">\n",
       "  <thead>\n",
       "    <tr style=\"text-align: right;\">\n",
       "      <th></th>\n",
       "      <th>Survived</th>\n",
       "      <th>Title</th>\n",
       "      <th>Counts</th>\n",
       "    </tr>\n",
       "  </thead>\n",
       "  <tbody>\n",
       "    <tr>\n",
       "      <th>0</th>\n",
       "      <td>0</td>\n",
       "      <td>Capt</td>\n",
       "      <td>1</td>\n",
       "    </tr>\n",
       "    <tr>\n",
       "      <th>1</th>\n",
       "      <td>0</td>\n",
       "      <td>Col</td>\n",
       "      <td>1</td>\n",
       "    </tr>\n",
       "    <tr>\n",
       "      <th>2</th>\n",
       "      <td>0</td>\n",
       "      <td>Don</td>\n",
       "      <td>1</td>\n",
       "    </tr>\n",
       "    <tr>\n",
       "      <th>3</th>\n",
       "      <td>0</td>\n",
       "      <td>Dr</td>\n",
       "      <td>4</td>\n",
       "    </tr>\n",
       "    <tr>\n",
       "      <th>4</th>\n",
       "      <td>0</td>\n",
       "      <td>Jonkheer</td>\n",
       "      <td>1</td>\n",
       "    </tr>\n",
       "    <tr>\n",
       "      <th>5</th>\n",
       "      <td>0</td>\n",
       "      <td>Major</td>\n",
       "      <td>1</td>\n",
       "    </tr>\n",
       "    <tr>\n",
       "      <th>6</th>\n",
       "      <td>0</td>\n",
       "      <td>Master</td>\n",
       "      <td>17</td>\n",
       "    </tr>\n",
       "    <tr>\n",
       "      <th>7</th>\n",
       "      <td>0</td>\n",
       "      <td>Miss</td>\n",
       "      <td>55</td>\n",
       "    </tr>\n",
       "    <tr>\n",
       "      <th>8</th>\n",
       "      <td>0</td>\n",
       "      <td>Mr</td>\n",
       "      <td>436</td>\n",
       "    </tr>\n",
       "    <tr>\n",
       "      <th>9</th>\n",
       "      <td>0</td>\n",
       "      <td>Mrs</td>\n",
       "      <td>26</td>\n",
       "    </tr>\n",
       "    <tr>\n",
       "      <th>10</th>\n",
       "      <td>0</td>\n",
       "      <td>Rev</td>\n",
       "      <td>6</td>\n",
       "    </tr>\n",
       "  </tbody>\n",
       "</table>\n",
       "</div>"
      ],
      "text/plain": [
       "    Survived     Title  Counts\n",
       "0          0      Capt       1\n",
       "1          0       Col       1\n",
       "2          0       Don       1\n",
       "3          0        Dr       4\n",
       "4          0  Jonkheer       1\n",
       "5          0     Major       1\n",
       "6          0    Master      17\n",
       "7          0      Miss      55\n",
       "8          0        Mr     436\n",
       "9          0       Mrs      26\n",
       "10         0       Rev       6"
      ]
     },
     "execution_count": 321,
     "metadata": {},
     "output_type": "execute_result"
    }
   ],
   "source": [
    "df_temp"
   ]
  },
  {
   "cell_type": "code",
   "execution_count": 327,
   "metadata": {},
   "outputs": [],
   "source": [
    "TITLE = train_data.Title.unique()\n",
    "\n",
    "df_survived_title = train_data[['Title', 'Survived']].value_counts()\n",
    "df_survived_title = pd.pivot_table(df_survived_title.to_frame(), values=0, index=['Survived', 'Title'], aggfunc=np.sum)\n",
    "df_survived_title = df_survived_title.reset_index()\n",
    "df_survived_title = df_survived_title.rename(columns={0: 'Counts'})\n",
    "\n",
    "df_temp = df_survived_title[df_survived_title['Survived'] == 0]\n",
    "df_temp2 = df_survived_title[df_survived_title['Survived'] == 1]\n",
    "\n",
    "for c in df_temp.Title.unique():\n",
    "    if c not in df_temp2.Title.unique():\n",
    "        d = pd.DataFrame([[1, c, 0]], columns=['Survived', 'Title', 'Counts'])\n",
    "        df_temp2 = df_temp2.append(d)\n",
    "        \n",
    "for c in df_temp2.Title.unique():\n",
    "    if c not in df_temp.Title.unique():\n",
    "        d = pd.DataFrame([[0, c, 0]], columns=['Survived', 'Title', 'Counts'])\n",
    "        df_temp = df_temp.append(d)\n",
    "\n",
    "df_temp.set_index('Title', inplace=True)\n",
    "df_temp2.set_index('Title', inplace=True)"
   ]
  },
  {
   "cell_type": "code",
   "execution_count": 328,
   "metadata": {},
   "outputs": [
    {
     "data": {
      "text/plain": [
       "True"
      ]
     },
     "execution_count": 328,
     "metadata": {},
     "output_type": "execute_result"
    }
   ],
   "source": [
    "len(df_temp) == len(df_temp2)"
   ]
  },
  {
   "cell_type": "code",
   "execution_count": 329,
   "metadata": {},
   "outputs": [
    {
     "data": {
      "image/png": "[encoded data removed]",
      "text/plain": [
       "<Figure size 864x576 with 1 Axes>"
      ]
     },
     "metadata": {
      "needs_background": "light"
     },
     "output_type": "display_data"
    }
   ],
   "source": [
    "df_title = train_data[['Title']].value_counts()\n",
    "df_title = df_title.to_frame()\n",
    "df_title = df_title.reset_index()\n",
    "\n",
    "plt.figure(figsize=(12,8))\n",
    "sns.barplot(x='Title', y=0, data=df_title)\n",
    "\n",
    "plt.title('Passenger Title Distribution')\n",
    "plt.xlabel('Titles')\n",
    "plt.ylabel('Counts')\n",
    "plt.xticks(rotation=90)\n",
    "plt.show()"
   ]
  },
  {
   "cell_type": "code",
   "execution_count": 330,
   "metadata": {},
   "outputs": [
    {
     "data": {
      "image/png": "[encoded data removed]",
      "text/plain": [
       "<Figure size 864x576 with 1 Axes>"
      ]
     },
     "metadata": {
      "needs_background": "light"
     },
     "output_type": "display_data"
    }
   ],
   "source": [
    "fig, ax = plt.subplots(figsize=(12,8))\n",
    "x = np.arange(len(TITLE))\n",
    "\n",
    "ax.bar(x - width/2, df_temp['Counts'], width, label='Not Survived')\n",
    "ax.bar(x + width/2, df_temp2['Counts'], width, label='Survived')\n",
    "\n",
    "ax.set_xlabel('Titles')\n",
    "ax.set_ylabel('Passenger Counts')\n",
    "ax.set_title('Number of Passengers Who Survived Based on Titles')\n",
    "ax.set_xticks(x)\n",
    "ax.set_xticklabels(TITLE)\n",
    "ax.legend()\n",
    "\n",
    "plt.xticks(rotation=90)\n",
    "plt.show()"
   ]
  },
  {
   "cell_type": "markdown",
   "metadata": {},
   "source": [
    "## Model Building"
   ]
  },
  {
   "cell_type": "code",
   "execution_count": 240,
   "metadata": {},
   "outputs": [],
   "source": [
    "from sklearn.ensemble import RandomForestClassifier\n",
    "from sklearn.metrics import accuracy_score\n",
    "from sklearn.model_selection import RepeatedStratifiedKFold, cross_val_score"
   ]
  },
  {
   "cell_type": "code",
   "execution_count": 241,
   "metadata": {},
   "outputs": [
    {
     "data": {
      "text/plain": [
       "Index(['PassengerId', 'Pclass', 'Name', 'Sex', 'Age', 'SibSp', 'Parch',\n",
       "       'Ticket', 'Fare', 'Cabin', 'Embarked', 'C', 'Q', 'S', 'Title'],\n",
       "      dtype='object')"
      ]
     },
     "execution_count": 241,
     "metadata": {},
     "output_type": "execute_result"
    }
   ],
   "source": [
    "test_data.columns"
   ]
  },
  {
   "cell_type": "code",
   "execution_count": 242,
   "metadata": {},
   "outputs": [
    {
     "name": "stdout",
     "output_type": "stream",
     "text": [
      "Training accuracy: 82.04%\n",
      "Cross-validatiton accuracy: 80.32%\n"
     ]
    }
   ],
   "source": [
    "# build a prediction model\n",
    "X = train_data[['Pclass', 'Sex', 'SibSp', 'Parch']].to_numpy()\n",
    "X_test = test_data[['Pclass', 'Sex', 'SibSp', 'Parch']].to_numpy()\n",
    "X2 = train_data[['Pclass', 'Sex', 'SibSp', 'Parch', 'C', 'Q', 'S']].to_numpy()\n",
    "X_test2 = test_data[['Pclass', 'Sex', 'SibSp', 'Parch', 'C', 'Q', 'S']].to_numpy()\n",
    "X3 = train_data[['Pclass', 'Sex', 'Fare', 'SibSp', 'Parch', 'C', 'Q', 'S']].to_numpy()\n",
    "X_test3 = test_data[['Pclass', 'Sex', 'Fare', 'SibSp', 'Parch', 'C', 'Q', 'S']].to_numpy()\n",
    "\n",
    "y = train_data['Survived'].to_numpy()\n",
    "\n",
    "model = RandomForestClassifier(n_estimators=10, max_depth=5, random_state=1)\n",
    "model.fit(X3, y)\n",
    "train_preds = model.predict(X3)\n",
    "print('Training accuracy: {:.2f}%'.format(accuracy_score(y, train_preds) * 100))\n",
    "\n",
    "cv = RepeatedStratifiedKFold(n_splits=10, n_repeats=3, random_state=1)\n",
    "n_scores = cross_val_score(model, X3, y, scoring='accuracy', cv=cv, n_jobs=-1, error_score='raise')\n",
    "print('Cross-validatiton accuracy: {:.2f}%'.format(np.mean(n_scores) * 100))"
   ]
  },
  {
   "cell_type": "markdown",
   "metadata": {},
   "source": [
    "## Submission"
   ]
  },
  {
   "cell_type": "code",
   "execution_count": 244,
   "metadata": {},
   "outputs": [
    {
     "name": "stdout",
     "output_type": "stream",
     "text": [
      "Submission saved!\n"
     ]
    }
   ],
   "source": [
    "test_preds = model.predict(X_test3)\n",
    "output = pd.DataFrame({'PassengerId': test_data['PassengerId'], 'Survived': test_preds})\n",
    "output.to_csv('titanic_embarked_one_hot_rf_submission.csv', index=False)\n",
    "print(\"Submission saved!\")"
   ]
  },
  {
   "cell_type": "code",
   "execution_count": null,
   "metadata": {},
   "outputs": [],
   "source": [
    "import requests\n",
    "import io\n",
    "import re\n",
    "\n",
    "url=\"https://github.com/thisisjasonjafari/my-datascientise-handcode/raw/master/005-datavisualization/titanic.csv\"\n",
    "s=requests.get(url).content\n",
    "c=pd.read_csv(io.StringIO(s.decode('utf-8')))\n",
    " \n",
    "test_labels = c\n",
    "test = pd.read_csv('./data/test.csv')\n",
    "\n",
    "# warnings.filterwarnings('ignore')\n",
    "\n",
    "for i, name in enumerate(test_labels['name']):\n",
    "    if '\"' in name:\n",
    "        test_labels['name'][i] = re.sub('\"', '', name)\n",
    "        \n",
    "for i, name in enumerate(test['Name']):\n",
    "    if '\"' in name:\n",
    "        test['Name'][i] = re.sub('\"', '', name)\n",
    "        \n",
    "survived = []\n",
    "\n",
    "for name in test['Name']:\n",
    "    survived.append(int(test_labels.loc[test_labels['name'] == name]['survived'].values[-1]))\n",
    "\n",
    "    \n",
    "# submission = pd.read_csv('./data/gender_submission.csv')\n",
    "# submission['Survived'] = survived\n",
    "# submission.to_csv('submission_titanic.csv', index=False)\n"
   ]
  },
  {
   "cell_type": "markdown",
   "metadata": {},
   "source": [
    "## with FastAI"
   ]
  },
  {
   "cell_type": "code",
   "execution_count": 245,
   "metadata": {},
   "outputs": [],
   "source": [
    "import fastai2\n",
    "import fastcore\n",
    "from fastai2.tabular.all import *"
   ]
  },
  {
   "cell_type": "code",
   "execution_count": 246,
   "metadata": {},
   "outputs": [
    {
     "data": {
      "text/plain": [
       "'0.1.35'"
      ]
     },
     "execution_count": 246,
     "metadata": {},
     "output_type": "execute_result"
    }
   ],
   "source": [
    "fastcore.__version__"
   ]
  },
  {
   "cell_type": "code",
   "execution_count": 247,
   "metadata": {},
   "outputs": [],
   "source": [
    "# download the extended dataset from: https://www.kaggle.com/pavlofesenko/titanic-extended?select=train.csv\n",
    "train_df = pd.read_csv('./data/train-extended.csv')\n",
    "test_df = pd.read_csv('./data/test-extended.csv')"
   ]
  },
  {
   "cell_type": "code",
   "execution_count": 248,
   "metadata": {},
   "outputs": [
    {
     "data": {
      "text/plain": [
       "PassengerId      int64\n",
       "Survived       float64\n",
       "Pclass           int64\n",
       "Name            object\n",
       "Sex             object\n",
       "Age            float64\n",
       "SibSp            int64\n",
       "Parch            int64\n",
       "Ticket          object\n",
       "Fare           float64\n",
       "Cabin           object\n",
       "Embarked        object\n",
       "WikiId         float64\n",
       "Name_wiki       object\n",
       "Age_wiki       float64\n",
       "Hometown        object\n",
       "Boarded         object\n",
       "Destination     object\n",
       "Lifeboat        object\n",
       "Body            object\n",
       "Class          float64\n",
       "dtype: object"
      ]
     },
     "execution_count": 248,
     "metadata": {},
     "output_type": "execute_result"
    }
   ],
   "source": [
    "train_df.dtypes"
   ]
  },
  {
   "cell_type": "code",
   "execution_count": 249,
   "metadata": {},
   "outputs": [
    {
     "data": {
      "text/plain": [
       "{int64: ['PassengerId', 'Pclass', 'SibSp', 'Parch'], float64: ['Survived', 'Age', 'Fare', 'WikiId', 'Age_wiki', 'Class'], object: ['Name', 'Sex', 'Ticket', 'Cabin', 'Embarked', 'Name_wiki', 'Hometown', 'Boarded', 'Destination', 'Lifeboat', 'Body']}"
      ]
     },
     "execution_count": 249,
     "metadata": {},
     "output_type": "execute_result"
    }
   ],
   "source": [
    "grouped_columns = train_df.columns.to_series().groupby(train_df.dtypes).groups\n",
    "grouped_columns"
   ]
  },
  {
   "cell_type": "code",
   "execution_count": 250,
   "metadata": {},
   "outputs": [],
   "source": [
    "cont_types = ['PassengerId', 'Pclass', 'SibSp', 'Parch', 'Age', 'Fare', 'WikiId', 'Age_wiki', 'Class']\n",
    "cat_types = ['Name', 'Sex', 'Ticket', 'Cabin', 'Embarked', 'Name_wiki', 'Hometown', 'Boarded', 'Destination', 'Lifeboat', 'Body']"
   ]
  },
  {
   "cell_type": "code",
   "execution_count": 251,
   "metadata": {},
   "outputs": [],
   "source": [
    "splits = RandomSplitter(valid_pct=.2)(range_of(train_df))\n",
    "tabular_pandas = TabularPandas(train_df, procs=[Categorify, FillMissing, Normalize],\n",
    "                              cat_names=cat_types,\n",
    "                              cont_names = cont_types,\n",
    "                              y_names='Survived',\n",
    "                              splits=splits)"
   ]
  },
  {
   "cell_type": "code",
   "execution_count": 252,
   "metadata": {},
   "outputs": [
    {
     "name": "stdout",
     "output_type": "stream",
     "text": [
      "Number of training rows: 713\n",
      "Training columns: 24\n"
     ]
    },
    {
     "data": {
      "text/html": [
       "<div>\n",
       "<style scoped>\n",
       "    .dataframe tbody tr th:only-of-type {\n",
       "        vertical-align: middle;\n",
       "    }\n",
       "\n",
       "    .dataframe tbody tr th {\n",
       "        vertical-align: top;\n",
       "    }\n",
       "\n",
       "    .dataframe thead th {\n",
       "        text-align: right;\n",
       "    }\n",
       "</style>\n",
       "<table border=\"1\" class=\"dataframe\">\n",
       "  <thead>\n",
       "    <tr style=\"text-align: right;\">\n",
       "      <th></th>\n",
       "      <th>Name</th>\n",
       "      <th>Sex</th>\n",
       "      <th>Ticket</th>\n",
       "      <th>Cabin</th>\n",
       "      <th>Embarked</th>\n",
       "      <th>Name_wiki</th>\n",
       "      <th>Hometown</th>\n",
       "      <th>Boarded</th>\n",
       "      <th>Destination</th>\n",
       "      <th>Lifeboat</th>\n",
       "      <th>...</th>\n",
       "      <th>Class_na</th>\n",
       "      <th>PassengerId</th>\n",
       "      <th>Pclass</th>\n",
       "      <th>SibSp</th>\n",
       "      <th>Parch</th>\n",
       "      <th>Age</th>\n",
       "      <th>Fare</th>\n",
       "      <th>WikiId</th>\n",
       "      <th>Age_wiki</th>\n",
       "      <th>Class</th>\n",
       "    </tr>\n",
       "  </thead>\n",
       "  <tbody>\n",
       "    <tr>\n",
       "      <th>619</th>\n",
       "      <td>280</td>\n",
       "      <td>2</td>\n",
       "      <td>254</td>\n",
       "      <td>0</td>\n",
       "      <td>3</td>\n",
       "      <td>262</td>\n",
       "      <td>154</td>\n",
       "      <td>4</td>\n",
       "      <td>66</td>\n",
       "      <td>0</td>\n",
       "      <td>...</td>\n",
       "      <td>1</td>\n",
       "      <td>0.686461</td>\n",
       "      <td>-0.366085</td>\n",
       "      <td>-0.475673</td>\n",
       "      <td>-0.485325</td>\n",
       "      <td>-0.236618</td>\n",
       "      <td>-0.432896</td>\n",
       "      <td>-0.637044</td>\n",
       "      <td>-0.216491</td>\n",
       "      <td>-0.361559</td>\n",
       "    </tr>\n",
       "    <tr>\n",
       "      <th>478</th>\n",
       "      <td>426</td>\n",
       "      <td>2</td>\n",
       "      <td>412</td>\n",
       "      <td>0</td>\n",
       "      <td>3</td>\n",
       "      <td>404</td>\n",
       "      <td>433</td>\n",
       "      <td>4</td>\n",
       "      <td>160</td>\n",
       "      <td>0</td>\n",
       "      <td>...</td>\n",
       "      <td>1</td>\n",
       "      <td>0.135718</td>\n",
       "      <td>0.831249</td>\n",
       "      <td>-0.475673</td>\n",
       "      <td>-0.485325</td>\n",
       "      <td>-0.546412</td>\n",
       "      <td>-0.490891</td>\n",
       "      <td>0.684856</td>\n",
       "      <td>-0.505563</td>\n",
       "      <td>0.831920</td>\n",
       "    </tr>\n",
       "    <tr>\n",
       "      <th>586</th>\n",
       "      <td>396</td>\n",
       "      <td>2</td>\n",
       "      <td>130</td>\n",
       "      <td>0</td>\n",
       "      <td>3</td>\n",
       "      <td>374</td>\n",
       "      <td>356</td>\n",
       "      <td>4</td>\n",
       "      <td>148</td>\n",
       "      <td>0</td>\n",
       "      <td>...</td>\n",
       "      <td>1</td>\n",
       "      <td>0.557563</td>\n",
       "      <td>-0.366085</td>\n",
       "      <td>-0.475673</td>\n",
       "      <td>-0.485325</td>\n",
       "      <td>1.389798</td>\n",
       "      <td>-0.345296</td>\n",
       "      <td>-0.515672</td>\n",
       "      <td>1.301134</td>\n",
       "      <td>-0.361559</td>\n",
       "    </tr>\n",
       "    <tr>\n",
       "      <th>833</th>\n",
       "      <td>50</td>\n",
       "      <td>2</td>\n",
       "      <td>343</td>\n",
       "      <td>0</td>\n",
       "      <td>3</td>\n",
       "      <td>51</td>\n",
       "      <td>220</td>\n",
       "      <td>4</td>\n",
       "      <td>20</td>\n",
       "      <td>0</td>\n",
       "      <td>...</td>\n",
       "      <td>1</td>\n",
       "      <td>1.522340</td>\n",
       "      <td>0.831249</td>\n",
       "      <td>-0.475673</td>\n",
       "      <td>-0.485325</td>\n",
       "      <td>-0.468964</td>\n",
       "      <td>-0.484401</td>\n",
       "      <td>-0.006437</td>\n",
       "      <td>-0.433295</td>\n",
       "      <td>0.831920</td>\n",
       "    </tr>\n",
       "    <tr>\n",
       "      <th>739</th>\n",
       "      <td>575</td>\n",
       "      <td>2</td>\n",
       "      <td>365</td>\n",
       "      <td>0</td>\n",
       "      <td>3</td>\n",
       "      <td>550</td>\n",
       "      <td>393</td>\n",
       "      <td>4</td>\n",
       "      <td>42</td>\n",
       "      <td>0</td>\n",
       "      <td>...</td>\n",
       "      <td>1</td>\n",
       "      <td>1.155178</td>\n",
       "      <td>0.831249</td>\n",
       "      <td>-0.475673</td>\n",
       "      <td>-0.485325</td>\n",
       "      <td>-0.081722</td>\n",
       "      <td>-0.483591</td>\n",
       "      <td>1.051610</td>\n",
       "      <td>0.217116</td>\n",
       "      <td>0.831920</td>\n",
       "    </tr>\n",
       "    <tr>\n",
       "      <th>...</th>\n",
       "      <td>...</td>\n",
       "      <td>...</td>\n",
       "      <td>...</td>\n",
       "      <td>...</td>\n",
       "      <td>...</td>\n",
       "      <td>...</td>\n",
       "      <td>...</td>\n",
       "      <td>...</td>\n",
       "      <td>...</td>\n",
       "      <td>...</td>\n",
       "      <td>...</td>\n",
       "      <td>...</td>\n",
       "      <td>...</td>\n",
       "      <td>...</td>\n",
       "      <td>...</td>\n",
       "      <td>...</td>\n",
       "      <td>...</td>\n",
       "      <td>...</td>\n",
       "      <td>...</td>\n",
       "      <td>...</td>\n",
       "      <td>...</td>\n",
       "    </tr>\n",
       "    <tr>\n",
       "      <th>241</th>\n",
       "      <td>568</td>\n",
       "      <td>1</td>\n",
       "      <td>445</td>\n",
       "      <td>0</td>\n",
       "      <td>2</td>\n",
       "      <td>541</td>\n",
       "      <td>6</td>\n",
       "      <td>3</td>\n",
       "      <td>163</td>\n",
       "      <td>9</td>\n",
       "      <td>...</td>\n",
       "      <td>1</td>\n",
       "      <td>-0.789999</td>\n",
       "      <td>0.831249</td>\n",
       "      <td>0.409849</td>\n",
       "      <td>-0.485325</td>\n",
       "      <td>-0.081722</td>\n",
       "      <td>-0.335563</td>\n",
       "      <td>1.022586</td>\n",
       "      <td>-0.794634</td>\n",
       "      <td>0.831920</td>\n",
       "    </tr>\n",
       "    <tr>\n",
       "      <th>165</th>\n",
       "      <td>294</td>\n",
       "      <td>2</td>\n",
       "      <td>424</td>\n",
       "      <td>0</td>\n",
       "      <td>3</td>\n",
       "      <td>275</td>\n",
       "      <td>360</td>\n",
       "      <td>4</td>\n",
       "      <td>55</td>\n",
       "      <td>21</td>\n",
       "      <td>...</td>\n",
       "      <td>1</td>\n",
       "      <td>-1.086854</td>\n",
       "      <td>0.831249</td>\n",
       "      <td>-0.475673</td>\n",
       "      <td>1.892934</td>\n",
       "      <td>-1.553241</td>\n",
       "      <td>-0.237744</td>\n",
       "      <td>0.439473</td>\n",
       "      <td>-1.445045</td>\n",
       "      <td>0.831920</td>\n",
       "    </tr>\n",
       "    <tr>\n",
       "      <th>266</th>\n",
       "      <td>632</td>\n",
       "      <td>2</td>\n",
       "      <td>250</td>\n",
       "      <td>0</td>\n",
       "      <td>3</td>\n",
       "      <td>600</td>\n",
       "      <td>424</td>\n",
       "      <td>4</td>\n",
       "      <td>47</td>\n",
       "      <td>0</td>\n",
       "      <td>...</td>\n",
       "      <td>1</td>\n",
       "      <td>-0.692350</td>\n",
       "      <td>0.831249</td>\n",
       "      <td>3.066416</td>\n",
       "      <td>0.703805</td>\n",
       "      <td>-1.011103</td>\n",
       "      <td>0.135285</td>\n",
       "      <td>1.180898</td>\n",
       "      <td>-0.939170</td>\n",
       "      <td>0.831920</td>\n",
       "    </tr>\n",
       "    <tr>\n",
       "      <th>347</th>\n",
       "      <td>208</td>\n",
       "      <td>1</td>\n",
       "      <td>484</td>\n",
       "      <td>0</td>\n",
       "      <td>3</td>\n",
       "      <td>0</td>\n",
       "      <td>0</td>\n",
       "      <td>0</td>\n",
       "      <td>0</td>\n",
       "      <td>0</td>\n",
       "      <td>...</td>\n",
       "      <td>2</td>\n",
       "      <td>-0.375966</td>\n",
       "      <td>0.831249</td>\n",
       "      <td>0.409849</td>\n",
       "      <td>-0.485325</td>\n",
       "      <td>-0.081722</td>\n",
       "      <td>-0.323883</td>\n",
       "      <td>0.021267</td>\n",
       "      <td>-0.071956</td>\n",
       "      <td>0.831920</td>\n",
       "    </tr>\n",
       "    <tr>\n",
       "      <th>117</th>\n",
       "      <td>827</td>\n",
       "      <td>2</td>\n",
       "      <td>54</td>\n",
       "      <td>0</td>\n",
       "      <td>3</td>\n",
       "      <td>787</td>\n",
       "      <td>303</td>\n",
       "      <td>4</td>\n",
       "      <td>182</td>\n",
       "      <td>0</td>\n",
       "      <td>...</td>\n",
       "      <td>1</td>\n",
       "      <td>-1.274341</td>\n",
       "      <td>-0.366085</td>\n",
       "      <td>0.409849</td>\n",
       "      <td>-0.485325</td>\n",
       "      <td>-0.004273</td>\n",
       "      <td>-0.228497</td>\n",
       "      <td>-0.217519</td>\n",
       "      <td>0.000312</td>\n",
       "      <td>-0.361559</td>\n",
       "    </tr>\n",
       "  </tbody>\n",
       "</table>\n",
       "<p>713 rows × 24 columns</p>\n",
       "</div>"
      ],
      "text/plain": [
       "     Name  Sex  Ticket  Cabin  Embarked  Name_wiki  Hometown  Boarded  \\\n",
       "619   280    2     254      0         3        262       154        4   \n",
       "478   426    2     412      0         3        404       433        4   \n",
       "586   396    2     130      0         3        374       356        4   \n",
       "833    50    2     343      0         3         51       220        4   \n",
       "739   575    2     365      0         3        550       393        4   \n",
       "..    ...  ...     ...    ...       ...        ...       ...      ...   \n",
       "241   568    1     445      0         2        541         6        3   \n",
       "165   294    2     424      0         3        275       360        4   \n",
       "266   632    2     250      0         3        600       424        4   \n",
       "347   208    1     484      0         3          0         0        0   \n",
       "117   827    2      54      0         3        787       303        4   \n",
       "\n",
       "     Destination  Lifeboat  ...  Class_na  PassengerId    Pclass     SibSp  \\\n",
       "619           66         0  ...         1     0.686461 -0.366085 -0.475673   \n",
       "478          160         0  ...         1     0.135718  0.831249 -0.475673   \n",
       "586          148         0  ...         1     0.557563 -0.366085 -0.475673   \n",
       "833           20         0  ...         1     1.522340  0.831249 -0.475673   \n",
       "739           42         0  ...         1     1.155178  0.831249 -0.475673   \n",
       "..           ...       ...  ...       ...          ...       ...       ...   \n",
       "241          163         9  ...         1    -0.789999  0.831249  0.409849   \n",
       "165           55        21  ...         1    -1.086854  0.831249 -0.475673   \n",
       "266           47         0  ...         1    -0.692350  0.831249  3.066416   \n",
       "347            0         0  ...         2    -0.375966  0.831249  0.409849   \n",
       "117          182         0  ...         1    -1.274341 -0.366085  0.409849   \n",
       "\n",
       "        Parch       Age      Fare    WikiId  Age_wiki     Class  \n",
       "619 -0.485325 -0.236618 -0.432896 -0.637044 -0.216491 -0.361559  \n",
       "478 -0.485325 -0.546412 -0.490891  0.684856 -0.505563  0.831920  \n",
       "586 -0.485325  1.389798 -0.345296 -0.515672  1.301134 -0.361559  \n",
       "833 -0.485325 -0.468964 -0.484401 -0.006437 -0.433295  0.831920  \n",
       "739 -0.485325 -0.081722 -0.483591  1.051610  0.217116  0.831920  \n",
       "..        ...       ...       ...       ...       ...       ...  \n",
       "241 -0.485325 -0.081722 -0.335563  1.022586 -0.794634  0.831920  \n",
       "165  1.892934 -1.553241 -0.237744  0.439473 -1.445045  0.831920  \n",
       "266  0.703805 -1.011103  0.135285  1.180898 -0.939170  0.831920  \n",
       "347 -0.485325 -0.081722 -0.323883  0.021267 -0.071956  0.831920  \n",
       "117 -0.485325 -0.004273 -0.228497 -0.217519  0.000312 -0.361559  \n",
       "\n",
       "[713 rows x 24 columns]"
      ]
     },
     "execution_count": 252,
     "metadata": {},
     "output_type": "execute_result"
    }
   ],
   "source": [
    "print('Number of training rows:', len(tabular_pandas.train.xs))\n",
    "print('Training columns:', len(tabular_pandas.train.xs.columns))\n",
    "tabular_pandas.train.xs"
   ]
  },
  {
   "cell_type": "code",
   "execution_count": 253,
   "metadata": {},
   "outputs": [
    {
     "name": "stdout",
     "output_type": "stream",
     "text": [
      "Number of validation rows: 178\n",
      "Validation columns: 24\n"
     ]
    },
    {
     "data": {
      "text/html": [
       "<div>\n",
       "<style scoped>\n",
       "    .dataframe tbody tr th:only-of-type {\n",
       "        vertical-align: middle;\n",
       "    }\n",
       "\n",
       "    .dataframe tbody tr th {\n",
       "        vertical-align: top;\n",
       "    }\n",
       "\n",
       "    .dataframe thead th {\n",
       "        text-align: right;\n",
       "    }\n",
       "</style>\n",
       "<table border=\"1\" class=\"dataframe\">\n",
       "  <thead>\n",
       "    <tr style=\"text-align: right;\">\n",
       "      <th></th>\n",
       "      <th>Name</th>\n",
       "      <th>Sex</th>\n",
       "      <th>Ticket</th>\n",
       "      <th>Cabin</th>\n",
       "      <th>Embarked</th>\n",
       "      <th>Name_wiki</th>\n",
       "      <th>Hometown</th>\n",
       "      <th>Boarded</th>\n",
       "      <th>Destination</th>\n",
       "      <th>Lifeboat</th>\n",
       "      <th>...</th>\n",
       "      <th>Class_na</th>\n",
       "      <th>PassengerId</th>\n",
       "      <th>Pclass</th>\n",
       "      <th>SibSp</th>\n",
       "      <th>Parch</th>\n",
       "      <th>Age</th>\n",
       "      <th>Fare</th>\n",
       "      <th>WikiId</th>\n",
       "      <th>Age_wiki</th>\n",
       "      <th>Class</th>\n",
       "    </tr>\n",
       "  </thead>\n",
       "  <tbody>\n",
       "    <tr>\n",
       "      <th>473</th>\n",
       "      <td>402</td>\n",
       "      <td>1</td>\n",
       "      <td>629</td>\n",
       "      <td>91</td>\n",
       "      <td>1</td>\n",
       "      <td>380</td>\n",
       "      <td>276</td>\n",
       "      <td>4</td>\n",
       "      <td>148</td>\n",
       "      <td>3</td>\n",
       "      <td>...</td>\n",
       "      <td>1</td>\n",
       "      <td>0.116188</td>\n",
       "      <td>-0.366085</td>\n",
       "      <td>-0.475673</td>\n",
       "      <td>-0.485325</td>\n",
       "      <td>-0.468964</td>\n",
       "      <td>-0.368818</td>\n",
       "      <td>-0.505118</td>\n",
       "      <td>-0.433295</td>\n",
       "      <td>-0.361559</td>\n",
       "    </tr>\n",
       "    <tr>\n",
       "      <th>238</th>\n",
       "      <td>649</td>\n",
       "      <td>2</td>\n",
       "      <td>232</td>\n",
       "      <td>0</td>\n",
       "      <td>3</td>\n",
       "      <td>614</td>\n",
       "      <td>158</td>\n",
       "      <td>4</td>\n",
       "      <td>31</td>\n",
       "      <td>0</td>\n",
       "      <td>...</td>\n",
       "      <td>1</td>\n",
       "      <td>-0.801717</td>\n",
       "      <td>-0.366085</td>\n",
       "      <td>-0.475673</td>\n",
       "      <td>-0.485325</td>\n",
       "      <td>-0.778757</td>\n",
       "      <td>-0.432896</td>\n",
       "      <td>-0.333614</td>\n",
       "      <td>-0.722366</td>\n",
       "      <td>-0.361559</td>\n",
       "    </tr>\n",
       "    <tr>\n",
       "      <th>51</th>\n",
       "      <td>595</td>\n",
       "      <td>2</td>\n",
       "      <td>523</td>\n",
       "      <td>0</td>\n",
       "      <td>3</td>\n",
       "      <td>571</td>\n",
       "      <td>279</td>\n",
       "      <td>4</td>\n",
       "      <td>30</td>\n",
       "      <td>0</td>\n",
       "      <td>...</td>\n",
       "      <td>1</td>\n",
       "      <td>-1.532135</td>\n",
       "      <td>0.831249</td>\n",
       "      <td>-0.475673</td>\n",
       "      <td>-0.485325</td>\n",
       "      <td>-0.623861</td>\n",
       "      <td>-0.485456</td>\n",
       "      <td>1.091188</td>\n",
       "      <td>-0.577831</td>\n",
       "      <td>0.831920</td>\n",
       "    </tr>\n",
       "    <tr>\n",
       "      <th>683</th>\n",
       "      <td>302</td>\n",
       "      <td>2</td>\n",
       "      <td>567</td>\n",
       "      <td>0</td>\n",
       "      <td>3</td>\n",
       "      <td>282</td>\n",
       "      <td>137</td>\n",
       "      <td>4</td>\n",
       "      <td>152</td>\n",
       "      <td>0</td>\n",
       "      <td>...</td>\n",
       "      <td>1</td>\n",
       "      <td>0.936443</td>\n",
       "      <td>0.831249</td>\n",
       "      <td>3.951938</td>\n",
       "      <td>1.892934</td>\n",
       "      <td>-1.165999</td>\n",
       "      <td>0.275687</td>\n",
       "      <td>0.452666</td>\n",
       "      <td>-1.083706</td>\n",
       "      <td>0.831920</td>\n",
       "    </tr>\n",
       "    <tr>\n",
       "      <th>730</th>\n",
       "      <td>15</td>\n",
       "      <td>1</td>\n",
       "      <td>142</td>\n",
       "      <td>33</td>\n",
       "      <td>3</td>\n",
       "      <td>17</td>\n",
       "      <td>348</td>\n",
       "      <td>4</td>\n",
       "      <td>195</td>\n",
       "      <td>10</td>\n",
       "      <td>...</td>\n",
       "      <td>1</td>\n",
       "      <td>1.120024</td>\n",
       "      <td>-1.563419</td>\n",
       "      <td>-0.475673</td>\n",
       "      <td>-0.485325</td>\n",
       "      <td>-0.004273</td>\n",
       "      <td>3.476722</td>\n",
       "      <td>-1.745223</td>\n",
       "      <td>0.000312</td>\n",
       "      <td>-1.555039</td>\n",
       "    </tr>\n",
       "    <tr>\n",
       "      <th>...</th>\n",
       "      <td>...</td>\n",
       "      <td>...</td>\n",
       "      <td>...</td>\n",
       "      <td>...</td>\n",
       "      <td>...</td>\n",
       "      <td>...</td>\n",
       "      <td>...</td>\n",
       "      <td>...</td>\n",
       "      <td>...</td>\n",
       "      <td>...</td>\n",
       "      <td>...</td>\n",
       "      <td>...</td>\n",
       "      <td>...</td>\n",
       "      <td>...</td>\n",
       "      <td>...</td>\n",
       "      <td>...</td>\n",
       "      <td>...</td>\n",
       "      <td>...</td>\n",
       "      <td>...</td>\n",
       "      <td>...</td>\n",
       "      <td>...</td>\n",
       "    </tr>\n",
       "    <tr>\n",
       "      <th>159</th>\n",
       "      <td>717</td>\n",
       "      <td>2</td>\n",
       "      <td>569</td>\n",
       "      <td>0</td>\n",
       "      <td>3</td>\n",
       "      <td>683</td>\n",
       "      <td>296</td>\n",
       "      <td>4</td>\n",
       "      <td>107</td>\n",
       "      <td>0</td>\n",
       "      <td>...</td>\n",
       "      <td>1</td>\n",
       "      <td>-1.110290</td>\n",
       "      <td>0.831249</td>\n",
       "      <td>6.608505</td>\n",
       "      <td>1.892934</td>\n",
       "      <td>-0.081722</td>\n",
       "      <td>0.716605</td>\n",
       "      <td>1.376148</td>\n",
       "      <td>-1.806384</td>\n",
       "      <td>0.831920</td>\n",
       "    </tr>\n",
       "    <tr>\n",
       "      <th>791</th>\n",
       "      <td>279</td>\n",
       "      <td>2</td>\n",
       "      <td>140</td>\n",
       "      <td>0</td>\n",
       "      <td>3</td>\n",
       "      <td>261</td>\n",
       "      <td>239</td>\n",
       "      <td>4</td>\n",
       "      <td>139</td>\n",
       "      <td>0</td>\n",
       "      <td>...</td>\n",
       "      <td>1</td>\n",
       "      <td>1.358289</td>\n",
       "      <td>-0.366085</td>\n",
       "      <td>-0.475673</td>\n",
       "      <td>-0.485325</td>\n",
       "      <td>-1.011103</td>\n",
       "      <td>-0.131164</td>\n",
       "      <td>-0.639683</td>\n",
       "      <td>-0.794634</td>\n",
       "      <td>-0.361559</td>\n",
       "    </tr>\n",
       "    <tr>\n",
       "      <th>328</th>\n",
       "      <td>296</td>\n",
       "      <td>1</td>\n",
       "      <td>424</td>\n",
       "      <td>0</td>\n",
       "      <td>3</td>\n",
       "      <td>277</td>\n",
       "      <td>360</td>\n",
       "      <td>4</td>\n",
       "      <td>55</td>\n",
       "      <td>21</td>\n",
       "      <td>...</td>\n",
       "      <td>1</td>\n",
       "      <td>-0.450179</td>\n",
       "      <td>0.831249</td>\n",
       "      <td>0.409849</td>\n",
       "      <td>0.703805</td>\n",
       "      <td>0.150624</td>\n",
       "      <td>-0.237744</td>\n",
       "      <td>0.436835</td>\n",
       "      <td>0.144848</td>\n",
       "      <td>0.831920</td>\n",
       "    </tr>\n",
       "    <tr>\n",
       "      <th>207</th>\n",
       "      <td>10</td>\n",
       "      <td>2</td>\n",
       "      <td>217</td>\n",
       "      <td>0</td>\n",
       "      <td>1</td>\n",
       "      <td>11</td>\n",
       "      <td>133</td>\n",
       "      <td>2</td>\n",
       "      <td>71</td>\n",
       "      <td>8</td>\n",
       "      <td>...</td>\n",
       "      <td>1</td>\n",
       "      <td>-0.922803</td>\n",
       "      <td>0.831249</td>\n",
       "      <td>-0.475673</td>\n",
       "      <td>-0.485325</td>\n",
       "      <td>-0.236618</td>\n",
       "      <td>-0.271567</td>\n",
       "      <td>-0.106701</td>\n",
       "      <td>-0.216491</td>\n",
       "      <td>0.831920</td>\n",
       "    </tr>\n",
       "    <tr>\n",
       "      <th>590</th>\n",
       "      <td>692</td>\n",
       "      <td>2</td>\n",
       "      <td>657</td>\n",
       "      <td>0</td>\n",
       "      <td>3</td>\n",
       "      <td>659</td>\n",
       "      <td>224</td>\n",
       "      <td>4</td>\n",
       "      <td>207</td>\n",
       "      <td>0</td>\n",
       "      <td>...</td>\n",
       "      <td>1</td>\n",
       "      <td>0.573187</td>\n",
       "      <td>0.831249</td>\n",
       "      <td>-0.475673</td>\n",
       "      <td>-0.485325</td>\n",
       "      <td>0.460417</td>\n",
       "      <td>-0.498596</td>\n",
       "      <td>1.294354</td>\n",
       "      <td>0.433919</td>\n",
       "      <td>0.831920</td>\n",
       "    </tr>\n",
       "  </tbody>\n",
       "</table>\n",
       "<p>178 rows × 24 columns</p>\n",
       "</div>"
      ],
      "text/plain": [
       "     Name  Sex  Ticket  Cabin  Embarked  Name_wiki  Hometown  Boarded  \\\n",
       "473   402    1     629     91         1        380       276        4   \n",
       "238   649    2     232      0         3        614       158        4   \n",
       "51    595    2     523      0         3        571       279        4   \n",
       "683   302    2     567      0         3        282       137        4   \n",
       "730    15    1     142     33         3         17       348        4   \n",
       "..    ...  ...     ...    ...       ...        ...       ...      ...   \n",
       "159   717    2     569      0         3        683       296        4   \n",
       "791   279    2     140      0         3        261       239        4   \n",
       "328   296    1     424      0         3        277       360        4   \n",
       "207    10    2     217      0         1         11       133        2   \n",
       "590   692    2     657      0         3        659       224        4   \n",
       "\n",
       "     Destination  Lifeboat  ...  Class_na  PassengerId    Pclass     SibSp  \\\n",
       "473          148         3  ...         1     0.116188 -0.366085 -0.475673   \n",
       "238           31         0  ...         1    -0.801717 -0.366085 -0.475673   \n",
       "51            30         0  ...         1    -1.532135  0.831249 -0.475673   \n",
       "683          152         0  ...         1     0.936443  0.831249  3.951938   \n",
       "730          195        10  ...         1     1.120024 -1.563419 -0.475673   \n",
       "..           ...       ...  ...       ...          ...       ...       ...   \n",
       "159          107         0  ...         1    -1.110290  0.831249  6.608505   \n",
       "791          139         0  ...         1     1.358289 -0.366085 -0.475673   \n",
       "328           55        21  ...         1    -0.450179  0.831249  0.409849   \n",
       "207           71         8  ...         1    -0.922803  0.831249 -0.475673   \n",
       "590          207         0  ...         1     0.573187  0.831249 -0.475673   \n",
       "\n",
       "        Parch       Age      Fare    WikiId  Age_wiki     Class  \n",
       "473 -0.485325 -0.468964 -0.368818 -0.505118 -0.433295 -0.361559  \n",
       "238 -0.485325 -0.778757 -0.432896 -0.333614 -0.722366 -0.361559  \n",
       "51  -0.485325 -0.623861 -0.485456  1.091188 -0.577831  0.831920  \n",
       "683  1.892934 -1.165999  0.275687  0.452666 -1.083706  0.831920  \n",
       "730 -0.485325 -0.004273  3.476722 -1.745223  0.000312 -1.555039  \n",
       "..        ...       ...       ...       ...       ...       ...  \n",
       "159  1.892934 -0.081722  0.716605  1.376148 -1.806384  0.831920  \n",
       "791 -0.485325 -1.011103 -0.131164 -0.639683 -0.794634 -0.361559  \n",
       "328  0.703805  0.150624 -0.237744  0.436835  0.144848  0.831920  \n",
       "207 -0.485325 -0.236618 -0.271567 -0.106701 -0.216491  0.831920  \n",
       "590 -0.485325  0.460417 -0.498596  1.294354  0.433919  0.831920  \n",
       "\n",
       "[178 rows x 24 columns]"
      ]
     },
     "execution_count": 253,
     "metadata": {},
     "output_type": "execute_result"
    }
   ],
   "source": [
    "print('Number of validation rows:', len(tabular_pandas.valid.xs))\n",
    "print('Validation columns:', len(tabular_pandas.valid.xs.columns))\n",
    "tabular_pandas.valid.xs"
   ]
  },
  {
   "cell_type": "code",
   "execution_count": 254,
   "metadata": {},
   "outputs": [],
   "source": [
    "X_train, y_train = tabular_pandas.train.xs, tabular_pandas.train.ys.values.ravel()\n",
    "X_valid, y_valid = tabular_pandas.valid.xs, tabular_pandas.valid.ys.values.ravel()"
   ]
  },
  {
   "cell_type": "code",
   "execution_count": 255,
   "metadata": {},
   "outputs": [
    {
     "data": {
      "text/plain": [
       "RandomForestClassifier(n_jobs=-1, random_state=1)"
      ]
     },
     "execution_count": 255,
     "metadata": {},
     "output_type": "execute_result"
    }
   ],
   "source": [
    "rf_model = RandomForestClassifier(n_estimators=100, n_jobs=-1, random_state=1)\n",
    "rf_model.fit(X_train, y_train)"
   ]
  },
  {
   "cell_type": "code",
   "execution_count": 256,
   "metadata": {},
   "outputs": [
    {
     "name": "stdout",
     "output_type": "stream",
     "text": [
      "Validation score: 100.00%\n",
      "Train score: 100.00%\n"
     ]
    }
   ],
   "source": [
    "train_preds = rf_model.predict(X_train)\n",
    "valid_preds = rf_model.predict(X_valid)\n",
    "print('Validation score: {:.2f}%'.format(accuracy_score(y_valid, valid_preds) * 100))\n",
    "print('Train score: {:.2f}%'.format(accuracy_score(y_train, train_preds) * 100))"
   ]
  },
  {
   "cell_type": "code",
   "execution_count": 257,
   "metadata": {},
   "outputs": [
    {
     "data": {
      "text/plain": [
       "{int64: ['PassengerId', 'Pclass', 'SibSp', 'Parch'], float64: ['Age', 'Fare', 'WikiId', 'Age_wiki', 'Class'], object: ['Name', 'Sex', 'Ticket', 'Cabin', 'Embarked', 'Name_wiki', 'Hometown', 'Boarded', 'Destination', 'Lifeboat', 'Body']}"
      ]
     },
     "execution_count": 257,
     "metadata": {},
     "output_type": "execute_result"
    }
   ],
   "source": [
    "test_df.columns.to_series().groupby(train_df.dtypes).groups"
   ]
  },
  {
   "cell_type": "code",
   "execution_count": 258,
   "metadata": {},
   "outputs": [],
   "source": [
    "cont_types = ['PassengerId', 'Pclass', 'SibSp', 'Parch', 'Age', 'Fare', 'WikiId', 'Age_wiki', 'Class']\n",
    "cat_types = ['Name', 'Sex', 'Ticket', 'Cabin', 'Embarked', 'Name_wiki', 'Hometown', 'Boarded', 'Destination', 'Lifeboat', 'Body']"
   ]
  },
  {
   "cell_type": "code",
   "execution_count": 259,
   "metadata": {},
   "outputs": [],
   "source": [
    "test_tabular_pandas = TabularPandas(test_df, procs=[Categorify, FillMissing, Normalize],\n",
    "                                   cat_names = cat_types,\n",
    "                                   cont_names = cont_types)"
   ]
  },
  {
   "cell_type": "code",
   "execution_count": 260,
   "metadata": {},
   "outputs": [],
   "source": [
    "X_test = test_tabular_pandas.train.xs"
   ]
  },
  {
   "cell_type": "code",
   "execution_count": 261,
   "metadata": {},
   "outputs": [
    {
     "data": {
      "text/plain": [
       "{int8: ['Sex', 'Cabin', 'Embarked', 'Boarded', 'Lifeboat', 'Body', 'Age_na', 'Fare_na', 'WikiId_na', 'Age_wiki_na', 'Class_na'], int16: ['Name', 'Ticket', 'Name_wiki', 'Hometown', 'Destination'], float64: ['PassengerId', 'Pclass', 'SibSp', 'Parch', 'Age', 'Fare', 'WikiId', 'Age_wiki', 'Class']}"
      ]
     },
     "execution_count": 261,
     "metadata": {},
     "output_type": "execute_result"
    }
   ],
   "source": [
    "X_test.columns.to_series().groupby(X_test.dtypes).groups"
   ]
  },
  {
   "cell_type": "code",
   "execution_count": 262,
   "metadata": {},
   "outputs": [
    {
     "name": "stdout",
     "output_type": "stream",
     "text": [
      "Fare_na is not in training columns\n"
     ]
    }
   ],
   "source": [
    "train_cols = X_train.columns\n",
    "test_cols = X_test.columns\n",
    "\n",
    "for cols in test_cols:\n",
    "    if cols not in train_cols:\n",
    "        print(\"{} is not in training columns\".format(cols))"
   ]
  },
  {
   "cell_type": "code",
   "execution_count": 263,
   "metadata": {},
   "outputs": [],
   "source": [
    "X_test = X_test.drop(['Fare_na'], axis=1)"
   ]
  },
  {
   "cell_type": "code",
   "execution_count": 264,
   "metadata": {},
   "outputs": [],
   "source": [
    "test_preds = rf_model.predict(X_test)\n",
    "test_preds = test_preds.astype(int)"
   ]
  },
  {
   "cell_type": "code",
   "execution_count": null,
   "metadata": {},
   "outputs": [],
   "source": [
    "output = pd.DataFrame({'PassengerId': test_df['PassengerId'], 'Survived': test_preds})\n",
    "output.to_csv('titanic_fastai2_submission.csv', index=False)\n",
    "print(\"Submission saved!\")"
   ]
  }
 ],
 "metadata": {
  "kernelspec": {
   "display_name": "Python 3",
   "language": "python",
   "name": "python3"
  },
  "language_info": {
   "codemirror_mode": {
    "name": "ipython",
    "version": 3
   },
   "file_extension": ".py",
   "mimetype": "text/x-python",
   "name": "python",
   "nbconvert_exporter": "python",
   "pygments_lexer": "ipython3",
   "version": "3.8.5"
  }
 },
 "nbformat": 4,
 "nbformat_minor": 4
}
